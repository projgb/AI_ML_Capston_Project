{
 "cells": [
  {
   "cell_type": "markdown",
   "id": "b95073b3-b766-4388-8466-b463d2e7eb01",
   "metadata": {},
   "source": [
    "## <font color = \"DarkGreen\"> Capston Project for SCTP Associate Artificial Intelligence Developer\n",
    "\n",
    "**Learner: Ganesh Borse** \n"
   ]
  },
  {
   "cell_type": "markdown",
   "id": "29cd389f-ad61-49c7-a354-71aa7ae27d9f",
   "metadata": {},
   "source": [
    "## <font color = \"blue\"> 1. Introduction and Project Overview\n",
    "\n",
    "Artificial Intelligence is achieved by applying Machine learning and Deep learning models to classification, identification, prediction and generation of text, vision, speech.\n",
    " Human vision processing is highly evovled. Comparatively, AI based computer vision is in progressing stages. Basic building blocks of computer vision system involves classification (object recognition), object detection, instance segementation, object location and so on.\n",
    " <>\n",
    "\n",
    "\n",
    "**Problem statement:** Correct image classification (or object recognition) is vital as it leads to next steps in computer vision.\n",
    "This could either be achieved by tabulating distinguishing attributes of objects to classify, like length and width attributes of Iris flower species in Iris dataset. Or, by extracting and identifying the edges and features from the binary pixel data of the digital images.\n",
    "\n",
    " Former uses the unsupervised (classification) machine learning models, like Logisitcs Regression, KNN, SVM, Decision Tree Classifier and Random Forest.\n",
    "\n",
    " Latter is performed using deep learning neural networks, specifically Convolutional Neural Networks and/or variants.\n",
    "\n",
    "**Project Purpose:**\n",
    "Learn and develop a CNN based image classification system using Tensorflow and Keras frameworks. Additionally, familarize with the existing image classification research and models, and the next steps in the computer vision."
   ]
  },
  {
   "cell_type": "markdown",
   "id": "218e54bc-903f-4415-b272-a234af8ede96",
   "metadata": {},
   "source": [
    "## <font color = \"blue\">2. Literature Review\n",
    "\n",
    "### a. Image Classification Models:\n",
    "\n",
    "  As a legend, computer vision started with the **MIT Professor Marvin Minsky**'s 1960 summar project assignment to undergraduates, that required them to attach a camera to a computer and have the computer describe everything that it sees. Then, the researchers were creating algorithms to detect shapes, lines, and edges in photographs.\n",
    "Decades after that computer vision evolved into several subfields like signal processing, image processing, computer photometry, object recognition, and so on. Object recognition is one of the most important and challenging area in computer vision. The breakthrough in this area led to the rise of AI known today.\n",
    "\n",
    "**Yann LeCun(1998)** was the first to develop CNN based **handwritten digits recognition(LeNet)**, and so prove the effectiveness of CNNs in image recognition.\n",
    "\n",
    "Attribute based classification is widely used with unsupervised (classification) machine learning models. Amazon Mechanical Turks enhanced the Caltech-UCSD birds database(CUB-200-2011) by labeling the attributes, such as color, size, visual features for each photo. This makes it easy to use these attributes for birds image classification using Random Forest or similar classifiction models. Other examples are Iris flowers, Rice datasets.\n",
    "\n",
    "**Alex Krizhevsky et al**.'s CNN variant architecture **AlexNet** for object recognition won ILSVRC-2012 (ImageNet Large Scale Visual Recognition Challenge). Highly sophisticated than LeNET, AlexNet provided significant breakthrough for object recognition.\n",
    "\n",
    "**Google's Inception**, winner of ILSVRC-2014 predicts efficiently (*improved training time*) with high accuracy and far fewer training parameters, compared to its closest contender VGG16. \n",
    "\n",
    "Oxford's **Visual Geometry Group's VGG16** further improved CNNs and finished second in the ILSVRC-2014.\n",
    "\n",
    "**Kaiming He et al.'s ResNet** (residual neural network), introduced at the ILSVRC-2015, has the residual block technique which allowed the neural network to be deeper with moderate number of parameters.\n",
    "\n",
    "### b. Notable datasets and notebooks:\n",
    "A number of image datasets are widely used in the industry. Few of them are MNIST(fashion, handwritten digits), CIFAR10, Flowers, Rice, Iris, Caltech-UCSD database(CUB-200-2011), Cats and Dogs by Microsoft. These datasets are of different types: image attributes, segmented images, grayscale images, RGB images, and so on.\n",
    "\n",
    "**Rice classification:** https://www.kaggle.com/code/musab2077/rice-image-classification-by-tensorflow\n",
    "\n",
    "**MNIST Fashion - clothing image classification:** https://www.tensorflow.org/tutorials/keras/classification\n",
    "\n",
    "**Kaggle Dataset:** https://www.kaggle.com/datasets/gpiosenka/100-bird-species\n",
    "\n",
    "**Comparison of Classification models:** https://github.com/projgb/ML_ClassificationModels\n",
    "\n",
    "### c. Project Rationale:\n",
    "With this overview, we can understand that models and datasets are somewhat related.\n",
    "\n",
    " *Thus, the project rationale is to design and develop a CNN-based model for RGB digital images, the main focus being the process compared to the end goal.*\n"
   ]
  },
  {
   "cell_type": "markdown",
   "id": "093dd080-1008-42a0-99e9-42f6848e906d",
   "metadata": {},
   "source": [
    "## <font color = \"blue\">3. Design and Implementation of CNN-based Image classification model\n",
    "\n",
    "**Data loading, preprocessing and splitting:**\n",
    "* For this project, 3 classes, 60 images per class from CUB-200-2011 database are used.\n",
    "* As image sizes vary greatly, all images are resized to CNN's standard image size of 256x256 and normalized by 1/255.\n",
    "* Training and Validation sets are splited in the ratio of 90%-10%.\n",
    "\n",
    "**CNN model design:**\n",
    "CNN model is formed with Conv2D, MaxPooling2D, Flatten and Dense layers. More layers are added for further enhancements.\n",
    "\n",
    "* **References:** \n",
    "  - Image Classification Tutorial : https://www.tensorflow.org/tutorials/images/classification\n",
    "  - Image Classification Notebook : https://github.com/tensorflow/docs/blob/master/site/en/tutorials/images/classification.ipynb\n",
    "  - **Image Dataset : http://www.vision.caltech.edu/visipedia/CUB-200-2011.html**"
   ]
  },
  {
   "cell_type": "markdown",
   "id": "41538239-f85b-4a70-ab3d-6caa615bb16e",
   "metadata": {},
   "source": [
    "**Import necessary libraries:**"
   ]
  },
  {
   "cell_type": "code",
   "execution_count": 16,
   "id": "2707c3f1-23c3-42b4-8a02-04a9b3c527e5",
   "metadata": {
    "scrolled": true
   },
   "outputs": [],
   "source": [
    "#Import necessary libraries\n",
    "import math\n",
    "from glob import glob\n",
    "import pathlib\n",
    "import numpy as np\n",
    "import pandas as pd\n",
    "import matplotlib.pyplot as plt\n",
    "import sklearn.metrics as metrics\n",
    "import tensorflow as tf\n",
    "from tensorflow import keras\n",
    "from keras import layers\n",
    "from keras.utils import image_dataset_from_directory as image_dataset_from_directory\n",
    "from keras.models import Sequential\n",
    "from keras.callbacks import EarlyStopping\n",
    "import seaborn as sns\n",
    "#-----------------------------------\n",
    "# fn: print float number with 2 floating point numbers\n",
    "def floatwith2digits(fltnum):\n",
    "    fltw2digs='{:.2f}'.format(fltnum)\n",
    "    return fltw2digs"
   ]
  },
  {
   "cell_type": "markdown",
   "id": "e5f61398-66ae-421a-a9bf-2f378855e8dc",
   "metadata": {},
   "source": [
    "**Data loading and splitting:** A parametrized function loads image dataset and splits conveniently into training and validation data sets using keras image_dataset_from_directory function. The convenience function helps modify the parameters quickly."
   ]
  },
  {
   "cell_type": "code",
   "execution_count": 18,
   "id": "51a20726-6150-46b7-9ec8-bea9756ac596",
   "metadata": {
    "scrolled": true
   },
   "outputs": [],
   "source": [
    "# fn: load and split data from data directory\n",
    "def datasplitter(imgsdir,valsplit=0.05,ipbatchsz=0.1,imghw=200,clrs=3,SEED=123):\n",
    "    data_path = pathlib.Path(imgsdir).with_suffix('')\n",
    "    toret = {}\n",
    "    print(\"datasplitter:Inputs:{}, Split:{}, Btchsz:{}, SEED:{}, Imghw:{}\".format(imgsdir,valsplit,\\\n",
    "                                            ipbatchsz,SEED,imghw))\n",
    "    toret[\"trainds\"] = image_dataset_from_directory(data_path,validation_split=valsplit,subset=\"training\"\n",
    "                                        ,color_mode=\"rgb\",seed=SEED,image_size=(imghw, imghw)\n",
    "                                        ,batch_size=ipbatchsz,shuffle=True)\n",
    "    toret[\"valds\"] = image_dataset_from_directory(data_path,validation_split=valsplit,subset=\"validation\"\n",
    "                                        ,color_mode=\"rgb\",seed=SEED,image_size=(imghw, imghw)\n",
    "                                        ,batch_size=ipbatchsz,shuffle=True)\n",
    "    return toret"
   ]
  },
  {
   "cell_type": "markdown",
   "id": "d695a8f2-a883-423a-b98c-f79ef11ca305",
   "metadata": {},
   "source": [
    "**Model implementations:**\n",
    "\n",
    " Model is developed in 3 variants:\n",
    " * Base: minimal basic layers. Two models- Tune1 and Tune2 are developed to eliminate overfitting, improve accuracy, and reduce loss.\n",
    " * Tune1: adding one DropOut layer and early stopping callback,\n",
    " * Tune2: additional DropOut layers per block, training image augmentations, and reducing validation split."
   ]
  },
  {
   "cell_type": "code",
   "execution_count": 20,
   "id": "9f527f5f-1250-4335-97be-bf7270520645",
   "metadata": {},
   "outputs": [
    {
     "name": "stdout",
     "output_type": "stream",
     "text": [
      "basecnn defined!\n"
     ]
    }
   ],
   "source": [
    "# 1st model: base cnn model with basic features\n",
    "def buildbasecnn(trainds,valds,valsplit,nepochs=50,imghw=200,clrs=3):\n",
    "    model = Sequential([layers.Rescaling(1./255,input_shape=(imghw,imghw,clrs)),\n",
    "      layers.Conv2D(16, 3, padding='same', activation='relu'),\n",
    "      layers.MaxPooling2D(),\n",
    "      layers.Conv2D(32, 3, padding='same', activation='relu'),\n",
    "      layers.MaxPooling2D(),\n",
    "      layers.Conv2D(64, 3, padding='same', activation='relu'),\n",
    "      layers.MaxPooling2D(),\n",
    "      layers.Flatten(),\n",
    "      layers.Dense(128, activation='relu'),\n",
    "      layers.Dense(len(trainds.class_names), name=\"outputs\")])\n",
    "    model.compile(optimizer='adam',loss=keras.losses.SparseCategoricalCrossentropy(from_logits=True),\n",
    "                  metrics=['accuracy'])\n",
    "    print(\"basecnn: compile done\")\n",
    "    print(\"basecnn: Training started.\")\n",
    "    hist = model.fit(trainds,validation_data=valds,validation_split=valsplit\n",
    "                     ,epochs=nepochs,verbose=True)\n",
    "    print(\"basecnn: Training done.\")\n",
    "    return model, hist, nepochs\n",
    "##----------------------\n",
    "print(\"basecnn defined!\")"
   ]
  },
  {
   "cell_type": "code",
   "execution_count": 22,
   "id": "26958c09-6b1c-4abd-952d-de5744f7a506",
   "metadata": {
    "scrolled": true
   },
   "outputs": [],
   "source": [
    "# Earlystopper class for stopping the training when desired validation accuracy or loss are reached.\n",
    "class earlyStopper(tf.keras.callbacks.Callback):\n",
    "    def __init__(self):\n",
    "        super().__init__()\n",
    "        self.earlystopat = 0\n",
    "    def on_epoch_end(self, epoch, logs={}):\n",
    "        if epoch <= 10:\n",
    "            return\n",
    "        acc = logs.get('accuracy')\n",
    "        vacc = logs.get('val_accuracy')\n",
    "        loss = logs.get('loss')\n",
    "        vloss = logs.get('val_loss')\n",
    "        if vloss < 0.1 or vacc > 0.9:\n",
    "            print(\"\\nEarlyStop:valacc:{},vloss:{},acc:{},loss:{} epoch:{}\".format(floatwith2digits(vacc)\\\n",
    "                                            ,floatwith2digits(vloss),floatwith2digits(acc),floatwith2digits(loss),epoch))\n",
    "            self.earlystopat = epoch\n",
    "            self.model.stop_training = True\n",
    "    def getstopped_epoch(self):\n",
    "        print(\"getstopepoch:earlystopat:{}\".format(self.earlystopat))\n",
    "        return self.earlystopat"
   ]
  },
  {
   "cell_type": "code",
   "execution_count": 24,
   "id": "72cd1d53-7658-493a-8706-f9bd8ea9303c",
   "metadata": {},
   "outputs": [
    {
     "name": "stdout",
     "output_type": "stream",
     "text": [
      "buildtunedcnn1 defined!\n"
     ]
    }
   ],
   "source": [
    "# 2nd model: tuned cnn model with early stopping & 1 dropout layer\n",
    "def buildtunedcnn1(trainds,valds,valsplit,nepochs=50,imghw=200,clrs=3):\n",
    "    model = Sequential()\n",
    "    model.add(layers.Rescaling(1./255,input_shape=(imghw,imghw,clrs)))\n",
    "    model.add(layers.Conv2D(16, 3, padding='same', activation='relu'))\n",
    "    model.add(layers.MaxPooling2D(pool_size=(2,2), padding='same'))\n",
    "    model.add(layers.Conv2D(32, 3, padding='same', activation='relu'))\n",
    "    model.add(layers.MaxPooling2D(pool_size=(2,2), padding='same'))\n",
    "    model.add(layers.Conv2D(64, 3, padding='same', activation='relu'))\n",
    "    model.add(layers.MaxPooling2D(pool_size=(2,2), padding='same'))\n",
    "    model.add(layers.Dropout(0.25))\n",
    "    model.add(layers.Flatten())\n",
    "    model.add(layers.Dense(128, activation='relu'))\n",
    "    model.add(layers.Dense(len(trainds.class_names), name=\"outputs\"))\n",
    "    model.compile(optimizer='adam',loss=keras.losses.SparseCategoricalCrossentropy(from_logits=True),\n",
    "                  metrics=['accuracy'])\n",
    "    print(\"tunedcnn1: compile done\")\n",
    "    callbacks = [earlyStopper()]\n",
    "    print(\"tunedcnn1: Training started.\")\n",
    "    hist = model.fit(trainds,validation_data=valds,validation_split=valsplit\n",
    "                         ,epochs=nepochs,verbose=True,callbacks=callbacks)\n",
    "    print(\"tunedcnn1: Training done.\")\n",
    "    acc = hist.history['accuracy']\n",
    "    stopat = callbacks[0].getstopped_epoch()\n",
    "    if stopat != len(acc):\n",
    "        stopat = len(acc)\n",
    "    epochs_range = range(nepochs) if stopat >= nepochs else range(stopat)\n",
    "    print(\"tunedcnn1:epochs_range:{},acc.len:{},epochs:{},stopat:{}\".format(epochs_range\\\n",
    "                                                                    ,len(acc),nepochs,stopat))\n",
    "    return model,hist,stopat\n",
    "print(\"buildtunedcnn1 defined!\")"
   ]
  },
  {
   "cell_type": "code",
   "execution_count": 3,
   "id": "7c4169de-027d-4e58-928a-e1e51edffd92",
   "metadata": {},
   "outputs": [
    {
     "name": "stdout",
     "output_type": "stream",
     "text": [
      "buildtunedcnn2 defined!\n"
     ]
    }
   ],
   "source": [
    "# 3rd model: tuned cnn model with early stopping, dropouts, training image augmentations\n",
    "def buildtunedcnn2(trainds,valds,valsplit,nepochs=50,imghw=200,clrs=3):\n",
    "    model = Sequential()\n",
    "    model.add(layers.Rescaling(1./255))\n",
    "    model.add(layers.RandomFlip(\"horizontal\"))\n",
    "    model.add(layers.RandomZoom(0.1))\n",
    "    model.add(layers.RandomTranslation(height_factor=-0.2,width_factor=-0.2))\n",
    "    model.add(layers.RandomRotation(-0.1))\n",
    "    model.add(layers.Conv2D(16, 3, padding='same', activation='relu'))\n",
    "    model.add(layers.MaxPooling2D(pool_size=(2,2), padding='same'))\n",
    "    model.add(layers.Dropout(0.25))\n",
    "    model.add(layers.Conv2D(32, 3, padding='same', activation='relu'))\n",
    "    model.add(layers.MaxPooling2D(pool_size=(2,2), padding='same'))\n",
    "    model.add(layers.Dropout(0.25))\n",
    "    model.add(layers.Conv2D(64, 3, padding='same', activation='relu'))\n",
    "    model.add(layers.MaxPooling2D(pool_size=(2,2), padding='same'))\n",
    "    model.add(layers.Dropout(0.25))\n",
    "    model.add(layers.Flatten())\n",
    "    model.add(layers.Dense(128, activation='relu'))\n",
    "    model.add(layers.Dense(len(trainds.class_names), name=\"outputs\"))\n",
    "    model.compile(optimizer='adam',loss=keras.losses.SparseCategoricalCrossentropy(from_logits=True\\\n",
    "                            ,reduction=\"sum_over_batch_size\"),metrics=['accuracy'])\n",
    "    print(\"tunedcnn2: compile done\")\n",
    "    callbacks = [earlyStopper()]\n",
    "    print(\"tunedcnn2: Training started.\")\n",
    "    hist = model.fit(trainds,validation_data=valds,validation_split=valsplit\n",
    "                     ,epochs=nepochs,verbose=True,shuffle=True)\n",
    "    print(\"tunedcnn2: Training done.\")\n",
    "    acc = hist.history['accuracy']\n",
    "    stopat = callbacks[0].getstopped_epoch()\n",
    "    if stopat != len(acc):\n",
    "        stopat = len(acc)\n",
    "    epochs_range = range(nepochs) if stopat >= nepochs else range(stopat)\n",
    "    print(\"tunedcnn2:epochs_range:{},acc.len:{},epochs:{},stopat:{}\".format(epochs_range\\\n",
    "                                                                    ,len(acc),nepochs,stopat))\n",
    "    return model,hist,stopat\n",
    "print(\"buildtunedcnn2 defined!\")"
   ]
  },
  {
   "cell_type": "markdown",
   "id": "3eca8f65-f6d7-425f-a1a5-e0419d790850",
   "metadata": {},
   "source": [
    "## <font color = \"blue\">4. Model evaluation Strategy:\n",
    "\n",
    " Models are evaluated using validation accuracy, validation loss, precision-accuracy-recall from the confusion matrix and classificaton report.\n",
    "\n",
    "### Validation accuracy and Validation loss:\n",
    " Validation accuracy and validation loss are monitored during training.\n",
    "\n",
    "### Confusion matrix and classification report:\n",
    " Since, this is unsupervised (classification) model, Precision, Recall, and Accuracy values from the confusion matrix and classificaton report are used to properly assess the performance of the model.\n",
    " Functions **plotaccloss** and **createcm_classrpt** are prepared to get consistent results across all the testing and all the time.\n"
   ]
  },
  {
   "cell_type": "code",
   "execution_count": 26,
   "id": "d0e90f50-92c7-4ed9-a386-4973180a896a",
   "metadata": {},
   "outputs": [
    {
     "name": "stdout",
     "output_type": "stream",
     "text": [
      "Common fns defined!\n"
     ]
    }
   ],
   "source": [
    "# fn: plot accuracy,loss values:\n",
    "def plotaccloss(hist,modelnm):\n",
    "    acc = hist.history['accuracy']\n",
    "    vacc = hist.history['val_accuracy']\n",
    "    loss = hist.history['loss']\n",
    "    vloss = hist.history['val_loss']\n",
    "    numepcs = len(vloss)\n",
    "    epcrng = range(numepcs)\n",
    "    plt.figure(figsize=(4, 4))\n",
    "    plt.subplot(1, 2, 1)\n",
    "    plt.plot(epcrng, acc, label='Training Accuracy')\n",
    "    plt.plot(epcrng, vacc, label='Validation Accuracy')\n",
    "    plt.legend(loc='lower right', title_fontsize=3)\n",
    "    plt.title('Accuracy ( {} )'.format(modelnm), size=7)\n",
    "    plt.subplot(1, 2, 2)\n",
    "    plt.plot(epcrng, loss, label='Training Loss')\n",
    "    plt.plot(epcrng, vloss, label='Validation Loss')\n",
    "    plt.legend(loc='upper right', title_fontsize=3)\n",
    "    plt.title('Loss ( {} )'.format(modelnm), size=7)\n",
    "    plt.tight_layout()\n",
    "    plt.show()\n",
    "#----\n",
    "# fn: create confusion-matrix & classification-report:\n",
    "def createcm_classrpt(actlabels,predlabels,numclasses):\n",
    "    print(\"Classification Report:\")\n",
    "    print(\"{}\".format(metrics.classification_report(actlabels,predlabels,zero_division=0.0)))\n",
    "    cm = np.zeros((numclasses, numclasses))\n",
    "    cm = tf.math.confusion_matrix(actlabels,predlabels)\n",
    "    print(\"Confusion matrix:\")\n",
    "    print(\"{}\".format(cm))\n",
    "    plt.subplots(figsize=(1, 1))\n",
    "    sns.heatmap(cm,annot=True,cmap='viridis')\n",
    "print(\"Common fns defined!\")"
   ]
  },
  {
   "cell_type": "markdown",
   "id": "4ce39438-f080-443e-b748-ee5ea3957c2c",
   "metadata": {},
   "source": [
    "## <font color = \"blue\">4-A. Models Testing:\n",
    "\n",
    " Let's test the models to evaluate the performance based on performance metrics discussed earlier. \n",
    "\n",
    "Test steps are to setup necessary hyperparameters, load the data, train the model, and visualize the performance measures."
   ]
  },
  {
   "cell_type": "code",
   "execution_count": 44,
   "id": "46eacb07-9dd4-4bec-9a75-dd8815b6260d",
   "metadata": {},
   "outputs": [],
   "source": [
    "# Setup image dataset directory:\n",
    "dataimgsdir = 'Data\\\\birds'"
   ]
  },
  {
   "cell_type": "markdown",
   "id": "49e3af05-36df-4994-a5c7-13ac5a52b3c0",
   "metadata": {},
   "source": [
    "## <font color = \"blue\">4-A-1. Base Model:\n",
    "\n",
    "  Test the Base model using following parameters."
   ]
  },
  {
   "cell_type": "code",
   "execution_count": 68,
   "id": "79b5d328-bff3-48f2-ba7f-2acd128d69e8",
   "metadata": {},
   "outputs": [],
   "source": [
    "# 1A. Setup hyperparameters for basecnn model\n",
    "modelnm = \"basecnn\"\n",
    "imghw,nepochs,ipbatchsz,SEED,valsplit = 256, 50, 32, 123, 0.1"
   ]
  },
  {
   "cell_type": "markdown",
   "id": "1c04f04b-e87d-4191-8d94-2b8fee5ff3a5",
   "metadata": {},
   "source": [
    "**Load the data**"
   ]
  },
  {
   "cell_type": "code",
   "execution_count": 70,
   "id": "51beefea-4a41-4071-b2c3-ab2565f7270b",
   "metadata": {},
   "outputs": [
    {
     "name": "stdout",
     "output_type": "stream",
     "text": [
      "datasplitter:Inputs:Data\\birds, Split:0.1, Btchsz:32, SEED:123, Imghw:256\n",
      "Found 180 files belonging to 3 classes.\n",
      "Using 162 files for training.\n",
      "Found 180 files belonging to 3 classes.\n",
      "Using 18 files for validation.\n"
     ]
    }
   ],
   "source": [
    "# 2. Load & split data for sending to the Base model:\n",
    "ds = datasplitter(dataimgsdir,valsplit,ipbatchsz=ipbatchsz,imghw=imghw,SEED=SEED)\n",
    "trainds, valds = ds[\"trainds\"], ds[\"valds\"]\n",
    "classes = trainds.class_names\n",
    "numclasses = len(classes)"
   ]
  },
  {
   "cell_type": "markdown",
   "id": "847d2400-f549-4635-976c-e961e1d422d1",
   "metadata": {},
   "source": [
    "**Create and train the Base model for evaluation:**"
   ]
  },
  {
   "cell_type": "code",
   "execution_count": 11,
   "id": "8835b454-e9e2-4775-a50a-6e4dd45878ec",
   "metadata": {},
   "outputs": [
    {
     "name": "stdout",
     "output_type": "stream",
     "text": [
      "Build_fit:basecnn model\n",
      "basecnn: compile done\n",
      "basecnn: Training started.\n",
      "Epoch 1/50\n",
      "\u001b[1m6/6\u001b[0m \u001b[32m━━━━━━━━━━━━━━━━━━━━\u001b[0m\u001b[37m\u001b[0m \u001b[1m4s\u001b[0m 354ms/step - accuracy: 0.3158 - loss: 2.5829 - val_accuracy: 0.2222 - val_loss: 1.5266\n",
      "Epoch 2/50\n",
      "\u001b[1m6/6\u001b[0m \u001b[32m━━━━━━━━━━━━━━━━━━━━\u001b[0m\u001b[37m\u001b[0m \u001b[1m2s\u001b[0m 296ms/step - accuracy: 0.3721 - loss: 1.1443 - val_accuracy: 0.3333 - val_loss: 1.1079\n",
      "Epoch 3/50\n",
      "\u001b[1m6/6\u001b[0m \u001b[32m━━━━━━━━━━━━━━━━━━━━\u001b[0m\u001b[37m\u001b[0m \u001b[1m2s\u001b[0m 301ms/step - accuracy: 0.5607 - loss: 1.0468 - val_accuracy: 0.2778 - val_loss: 1.1093\n",
      "Epoch 4/50\n",
      "\u001b[1m6/6\u001b[0m \u001b[32m━━━━━━━━━━━━━━━━━━━━\u001b[0m\u001b[37m\u001b[0m \u001b[1m2s\u001b[0m 305ms/step - accuracy: 0.4469 - loss: 0.9635 - val_accuracy: 0.6111 - val_loss: 1.0559\n",
      "Epoch 5/50\n",
      "\u001b[1m6/6\u001b[0m \u001b[32m━━━━━━━━━━━━━━━━━━━━\u001b[0m\u001b[37m\u001b[0m \u001b[1m2s\u001b[0m 284ms/step - accuracy: 0.7437 - loss: 0.8183 - val_accuracy: 0.6111 - val_loss: 1.0201\n",
      "Epoch 6/50\n",
      "\u001b[1m6/6\u001b[0m \u001b[32m━━━━━━━━━━━━━━━━━━━━\u001b[0m\u001b[37m\u001b[0m \u001b[1m2s\u001b[0m 296ms/step - accuracy: 0.8628 - loss: 0.5861 - val_accuracy: 0.6111 - val_loss: 0.7575\n",
      "Epoch 7/50\n",
      "\u001b[1m6/6\u001b[0m \u001b[32m━━━━━━━━━━━━━━━━━━━━\u001b[0m\u001b[37m\u001b[0m \u001b[1m2s\u001b[0m 292ms/step - accuracy: 0.8365 - loss: 0.4208 - val_accuracy: 0.6111 - val_loss: 0.9157\n",
      "Epoch 8/50\n",
      "\u001b[1m6/6\u001b[0m \u001b[32m━━━━━━━━━━━━━━━━━━━━\u001b[0m\u001b[37m\u001b[0m \u001b[1m2s\u001b[0m 296ms/step - accuracy: 0.9149 - loss: 0.2929 - val_accuracy: 0.5556 - val_loss: 1.2201\n",
      "Epoch 9/50\n",
      "\u001b[1m6/6\u001b[0m \u001b[32m━━━━━━━━━━━━━━━━━━━━\u001b[0m\u001b[37m\u001b[0m \u001b[1m2s\u001b[0m 291ms/step - accuracy: 0.9073 - loss: 0.2431 - val_accuracy: 0.5556 - val_loss: 1.3805\n",
      "Epoch 10/50\n",
      "\u001b[1m6/6\u001b[0m \u001b[32m━━━━━━━━━━━━━━━━━━━━\u001b[0m\u001b[37m\u001b[0m \u001b[1m2s\u001b[0m 288ms/step - accuracy: 0.9472 - loss: 0.1505 - val_accuracy: 0.4444 - val_loss: 3.7550\n",
      "Epoch 11/50\n",
      "\u001b[1m6/6\u001b[0m \u001b[32m━━━━━━━━━━━━━━━━━━━━\u001b[0m\u001b[37m\u001b[0m \u001b[1m2s\u001b[0m 292ms/step - accuracy: 0.8066 - loss: 0.9729 - val_accuracy: 0.5000 - val_loss: 1.3717\n",
      "Epoch 12/50\n",
      "\u001b[1m6/6\u001b[0m \u001b[32m━━━━━━━━━━━━━━━━━━━━\u001b[0m\u001b[37m\u001b[0m \u001b[1m2s\u001b[0m 303ms/step - accuracy: 0.9105 - loss: 0.2564 - val_accuracy: 0.4444 - val_loss: 2.0383\n",
      "Epoch 13/50\n",
      "\u001b[1m6/6\u001b[0m \u001b[32m━━━━━━━━━━━━━━━━━━━━\u001b[0m\u001b[37m\u001b[0m \u001b[1m2s\u001b[0m 287ms/step - accuracy: 0.8319 - loss: 0.3657 - val_accuracy: 0.5000 - val_loss: 1.6880\n",
      "Epoch 14/50\n",
      "\u001b[1m6/6\u001b[0m \u001b[32m━━━━━━━━━━━━━━━━━━━━\u001b[0m\u001b[37m\u001b[0m \u001b[1m2s\u001b[0m 317ms/step - accuracy: 0.9037 - loss: 0.2594 - val_accuracy: 0.5000 - val_loss: 1.6513\n",
      "Epoch 15/50\n",
      "\u001b[1m6/6\u001b[0m \u001b[32m━━━━━━━━━━━━━━━━━━━━\u001b[0m\u001b[37m\u001b[0m \u001b[1m2s\u001b[0m 289ms/step - accuracy: 0.9673 - loss: 0.1728 - val_accuracy: 0.5556 - val_loss: 1.8323\n",
      "Epoch 16/50\n",
      "\u001b[1m6/6\u001b[0m \u001b[32m━━━━━━━━━━━━━━━━━━━━\u001b[0m\u001b[37m\u001b[0m \u001b[1m2s\u001b[0m 335ms/step - accuracy: 0.9629 - loss: 0.1201 - val_accuracy: 0.5000 - val_loss: 1.8260\n",
      "Epoch 17/50\n",
      "\u001b[1m6/6\u001b[0m \u001b[32m━━━━━━━━━━━━━━━━━━━━\u001b[0m\u001b[37m\u001b[0m \u001b[1m2s\u001b[0m 326ms/step - accuracy: 0.9819 - loss: 0.0892 - val_accuracy: 0.5000 - val_loss: 2.1454\n",
      "Epoch 18/50\n",
      "\u001b[1m6/6\u001b[0m \u001b[32m━━━━━━━━━━━━━━━━━━━━\u001b[0m\u001b[37m\u001b[0m \u001b[1m2s\u001b[0m 326ms/step - accuracy: 0.9883 - loss: 0.0517 - val_accuracy: 0.5000 - val_loss: 2.6656\n",
      "Epoch 19/50\n",
      "\u001b[1m6/6\u001b[0m \u001b[32m━━━━━━━━━━━━━━━━━━━━\u001b[0m\u001b[37m\u001b[0m \u001b[1m2s\u001b[0m 321ms/step - accuracy: 0.9804 - loss: 0.0560 - val_accuracy: 0.5000 - val_loss: 2.6000\n",
      "Epoch 20/50\n",
      "\u001b[1m6/6\u001b[0m \u001b[32m━━━━━━━━━━━━━━━━━━━━\u001b[0m\u001b[37m\u001b[0m \u001b[1m2s\u001b[0m 342ms/step - accuracy: 0.9947 - loss: 0.0323 - val_accuracy: 0.5000 - val_loss: 2.4536\n",
      "Epoch 21/50\n",
      "\u001b[1m6/6\u001b[0m \u001b[32m━━━━━━━━━━━━━━━━━━━━\u001b[0m\u001b[37m\u001b[0m \u001b[1m2s\u001b[0m 321ms/step - accuracy: 0.9973 - loss: 0.0230 - val_accuracy: 0.5556 - val_loss: 2.7398\n",
      "Epoch 22/50\n",
      "\u001b[1m6/6\u001b[0m \u001b[32m━━━━━━━━━━━━━━━━━━━━\u001b[0m\u001b[37m\u001b[0m \u001b[1m2s\u001b[0m 337ms/step - accuracy: 0.9921 - loss: 0.0166 - val_accuracy: 0.6111 - val_loss: 3.6157\n",
      "Epoch 23/50\n",
      "\u001b[1m6/6\u001b[0m \u001b[32m━━━━━━━━━━━━━━━━━━━━\u001b[0m\u001b[37m\u001b[0m \u001b[1m2s\u001b[0m 337ms/step - accuracy: 0.9880 - loss: 0.0404 - val_accuracy: 0.6111 - val_loss: 2.8547\n",
      "Epoch 24/50\n",
      "\u001b[1m6/6\u001b[0m \u001b[32m━━━━━━━━━━━━━━━━━━━━\u001b[0m\u001b[37m\u001b[0m \u001b[1m2s\u001b[0m 337ms/step - accuracy: 1.0000 - loss: 0.0146 - val_accuracy: 0.5556 - val_loss: 2.7171\n",
      "Epoch 25/50\n",
      "\u001b[1m6/6\u001b[0m \u001b[32m━━━━━━━━━━━━━━━━━━━━\u001b[0m\u001b[37m\u001b[0m \u001b[1m2s\u001b[0m 335ms/step - accuracy: 1.0000 - loss: 0.0151 - val_accuracy: 0.6667 - val_loss: 3.1434\n",
      "Epoch 26/50\n",
      "\u001b[1m6/6\u001b[0m \u001b[32m━━━━━━━━━━━━━━━━━━━━\u001b[0m\u001b[37m\u001b[0m \u001b[1m2s\u001b[0m 326ms/step - accuracy: 1.0000 - loss: 0.0080 - val_accuracy: 0.6111 - val_loss: 3.5164\n",
      "Epoch 27/50\n",
      "\u001b[1m6/6\u001b[0m \u001b[32m━━━━━━━━━━━━━━━━━━━━\u001b[0m\u001b[37m\u001b[0m \u001b[1m2s\u001b[0m 332ms/step - accuracy: 1.0000 - loss: 0.0077 - val_accuracy: 0.6667 - val_loss: 2.9484\n",
      "Epoch 28/50\n",
      "\u001b[1m6/6\u001b[0m \u001b[32m━━━━━━━━━━━━━━━━━━━━\u001b[0m\u001b[37m\u001b[0m \u001b[1m2s\u001b[0m 326ms/step - accuracy: 1.0000 - loss: 0.0030 - val_accuracy: 0.6667 - val_loss: 2.8211\n",
      "Epoch 29/50\n",
      "\u001b[1m6/6\u001b[0m \u001b[32m━━━━━━━━━━━━━━━━━━━━\u001b[0m\u001b[37m\u001b[0m \u001b[1m2s\u001b[0m 317ms/step - accuracy: 1.0000 - loss: 0.0031 - val_accuracy: 0.6667 - val_loss: 2.9489\n",
      "Epoch 30/50\n",
      "\u001b[1m6/6\u001b[0m \u001b[32m━━━━━━━━━━━━━━━━━━━━\u001b[0m\u001b[37m\u001b[0m \u001b[1m2s\u001b[0m 333ms/step - accuracy: 1.0000 - loss: 0.0020 - val_accuracy: 0.6667 - val_loss: 3.2183\n",
      "Epoch 31/50\n",
      "\u001b[1m6/6\u001b[0m \u001b[32m━━━━━━━━━━━━━━━━━━━━\u001b[0m\u001b[37m\u001b[0m \u001b[1m2s\u001b[0m 337ms/step - accuracy: 1.0000 - loss: 0.0013 - val_accuracy: 0.6667 - val_loss: 3.5178\n",
      "Epoch 32/50\n",
      "\u001b[1m6/6\u001b[0m \u001b[32m━━━━━━━━━━━━━━━━━━━━\u001b[0m\u001b[37m\u001b[0m \u001b[1m2s\u001b[0m 327ms/step - accuracy: 1.0000 - loss: 0.0020 - val_accuracy: 0.6667 - val_loss: 3.5225\n",
      "Epoch 33/50\n",
      "\u001b[1m6/6\u001b[0m \u001b[32m━━━━━━━━━━━━━━━━━━━━\u001b[0m\u001b[37m\u001b[0m \u001b[1m2s\u001b[0m 336ms/step - accuracy: 1.0000 - loss: 0.0015 - val_accuracy: 0.6667 - val_loss: 3.4336\n",
      "Epoch 34/50\n",
      "\u001b[1m6/6\u001b[0m \u001b[32m━━━━━━━━━━━━━━━━━━━━\u001b[0m\u001b[37m\u001b[0m \u001b[1m2s\u001b[0m 322ms/step - accuracy: 1.0000 - loss: 0.0010 - val_accuracy: 0.6667 - val_loss: 3.2993\n",
      "Epoch 35/50\n",
      "\u001b[1m6/6\u001b[0m \u001b[32m━━━━━━━━━━━━━━━━━━━━\u001b[0m\u001b[37m\u001b[0m \u001b[1m2s\u001b[0m 322ms/step - accuracy: 1.0000 - loss: 9.5845e-04 - val_accuracy: 0.6667 - val_loss: 3.2769\n",
      "Epoch 36/50\n",
      "\u001b[1m6/6\u001b[0m \u001b[32m━━━━━━━━━━━━━━━━━━━━\u001b[0m\u001b[37m\u001b[0m \u001b[1m2s\u001b[0m 336ms/step - accuracy: 1.0000 - loss: 6.3644e-04 - val_accuracy: 0.6667 - val_loss: 3.4105\n",
      "Epoch 37/50\n",
      "\u001b[1m6/6\u001b[0m \u001b[32m━━━━━━━━━━━━━━━━━━━━\u001b[0m\u001b[37m\u001b[0m \u001b[1m2s\u001b[0m 318ms/step - accuracy: 1.0000 - loss: 6.8833e-04 - val_accuracy: 0.6667 - val_loss: 3.4799\n",
      "Epoch 38/50\n",
      "\u001b[1m6/6\u001b[0m \u001b[32m━━━━━━━━━━━━━━━━━━━━\u001b[0m\u001b[37m\u001b[0m \u001b[1m2s\u001b[0m 332ms/step - accuracy: 1.0000 - loss: 6.4052e-04 - val_accuracy: 0.6667 - val_loss: 3.4930\n",
      "Epoch 39/50\n",
      "\u001b[1m6/6\u001b[0m \u001b[32m━━━━━━━━━━━━━━━━━━━━\u001b[0m\u001b[37m\u001b[0m \u001b[1m2s\u001b[0m 331ms/step - accuracy: 1.0000 - loss: 5.7101e-04 - val_accuracy: 0.6667 - val_loss: 3.4586\n",
      "Epoch 40/50\n",
      "\u001b[1m6/6\u001b[0m \u001b[32m━━━━━━━━━━━━━━━━━━━━\u001b[0m\u001b[37m\u001b[0m \u001b[1m2s\u001b[0m 329ms/step - accuracy: 1.0000 - loss: 5.3408e-04 - val_accuracy: 0.6667 - val_loss: 3.4573\n",
      "Epoch 41/50\n",
      "\u001b[1m6/6\u001b[0m \u001b[32m━━━━━━━━━━━━━━━━━━━━\u001b[0m\u001b[37m\u001b[0m \u001b[1m2s\u001b[0m 323ms/step - accuracy: 1.0000 - loss: 4.8093e-04 - val_accuracy: 0.6667 - val_loss: 3.4789\n",
      "Epoch 42/50\n",
      "\u001b[1m6/6\u001b[0m \u001b[32m━━━━━━━━━━━━━━━━━━━━\u001b[0m\u001b[37m\u001b[0m \u001b[1m2s\u001b[0m 322ms/step - accuracy: 1.0000 - loss: 5.5050e-04 - val_accuracy: 0.6667 - val_loss: 3.4869\n",
      "Epoch 43/50\n",
      "\u001b[1m6/6\u001b[0m \u001b[32m━━━━━━━━━━━━━━━━━━━━\u001b[0m\u001b[37m\u001b[0m \u001b[1m2s\u001b[0m 323ms/step - accuracy: 1.0000 - loss: 4.3800e-04 - val_accuracy: 0.6667 - val_loss: 3.5453\n",
      "Epoch 44/50\n",
      "\u001b[1m6/6\u001b[0m \u001b[32m━━━━━━━━━━━━━━━━━━━━\u001b[0m\u001b[37m\u001b[0m \u001b[1m2s\u001b[0m 342ms/step - accuracy: 1.0000 - loss: 4.1908e-04 - val_accuracy: 0.6667 - val_loss: 3.5648\n",
      "Epoch 45/50\n",
      "\u001b[1m6/6\u001b[0m \u001b[32m━━━━━━━━━━━━━━━━━━━━\u001b[0m\u001b[37m\u001b[0m \u001b[1m2s\u001b[0m 334ms/step - accuracy: 1.0000 - loss: 3.9645e-04 - val_accuracy: 0.6667 - val_loss: 3.5993\n",
      "Epoch 46/50\n",
      "\u001b[1m6/6\u001b[0m \u001b[32m━━━━━━━━━━━━━━━━━━━━\u001b[0m\u001b[37m\u001b[0m \u001b[1m2s\u001b[0m 328ms/step - accuracy: 1.0000 - loss: 3.5008e-04 - val_accuracy: 0.6667 - val_loss: 3.6194\n",
      "Epoch 47/50\n",
      "\u001b[1m6/6\u001b[0m \u001b[32m━━━━━━━━━━━━━━━━━━━━\u001b[0m\u001b[37m\u001b[0m \u001b[1m2s\u001b[0m 336ms/step - accuracy: 1.0000 - loss: 3.4734e-04 - val_accuracy: 0.6667 - val_loss: 3.6442\n",
      "Epoch 48/50\n",
      "\u001b[1m6/6\u001b[0m \u001b[32m━━━━━━━━━━━━━━━━━━━━\u001b[0m\u001b[37m\u001b[0m \u001b[1m2s\u001b[0m 337ms/step - accuracy: 1.0000 - loss: 3.8034e-04 - val_accuracy: 0.6667 - val_loss: 3.6630\n",
      "Epoch 49/50\n",
      "\u001b[1m6/6\u001b[0m \u001b[32m━━━━━━━━━━━━━━━━━━━━\u001b[0m\u001b[37m\u001b[0m \u001b[1m2s\u001b[0m 321ms/step - accuracy: 1.0000 - loss: 3.0753e-04 - val_accuracy: 0.6667 - val_loss: 3.6788\n",
      "Epoch 50/50\n",
      "\u001b[1m6/6\u001b[0m \u001b[32m━━━━━━━━━━━━━━━━━━━━\u001b[0m\u001b[37m\u001b[0m \u001b[1m2s\u001b[0m 333ms/step - accuracy: 1.0000 - loss: 3.1476e-04 - val_accuracy: 0.6667 - val_loss: 3.6793\n",
      "basecnn: Training done.\n"
     ]
    }
   ],
   "source": [
    "# 3. Build and train selected model:\n",
    "print(\"Build_fit:{} model\".format(modelnm))\n",
    "model, hist, nepochsran = buildbasecnn(trainds,valds,valsplit=valsplit,nepochs=nepochs,imghw=imghw)"
   ]
  },
  {
   "cell_type": "markdown",
   "id": "33085b5d-9a92-4813-a343-21251557471d",
   "metadata": {},
   "source": [
    "**Plot Accuracy, Loss, Confusion Matrix, Classification Report from the Base model's training and predictions:**"
   ]
  },
  {
   "cell_type": "code",
   "execution_count": 96,
   "id": "f067976e-99d6-471c-a7ed-e377329d69fe",
   "metadata": {},
   "outputs": [
    {
     "data": {
      "image/png": "[encoded data removed]",
      "text/plain": [
       "<Figure size 400x400 with 2 Axes>"
      ]
     },
     "metadata": {},
     "output_type": "display_data"
    }
   ],
   "source": [
    "# 4. View loss and accuracy after model training\n",
    "plotaccloss(hist,modelnm)"
   ]
  },
  {
   "cell_type": "code",
   "execution_count": 98,
   "id": "95aec7dd-6f09-4fff-bd1a-5324dda08da5",
   "metadata": {},
   "outputs": [
    {
     "name": "stdout",
     "output_type": "stream",
     "text": [
      "Classification Report:\n",
      "              precision    recall  f1-score   support\n",
      "\n",
      "           0       0.67      0.67      0.67         6\n",
      "           1       0.80      0.67      0.73         6\n",
      "           2       0.57      0.67      0.62         6\n",
      "\n",
      "    accuracy                           0.67        18\n",
      "   macro avg       0.68      0.67      0.67        18\n",
      "weighted avg       0.68      0.67      0.67        18\n",
      "\n",
      "Confusion matrix:\n",
      "[[4 0 2]\n",
      " [1 4 1]\n",
      " [1 1 4]]\n"
     ]
    },
    {
     "data": {
      "image/png": "[encoded data removed]",
      "text/plain": [
       "<Figure size 100x100 with 2 Axes>"
      ]
     },
     "metadata": {},
     "output_type": "display_data"
    }
   ],
   "source": [
    "# 5. Analyse performance with confusion matrix and classification report:\n",
    "valds_pred = model.predict(valds,verbose=False)\n",
    "valdslabels,predids1by1 = [],[]\n",
    "for images, labels in valds:\n",
    "    valdslabels = labels\n",
    "    for i in range(len(labels)):\n",
    "        predids1by1.append(np.argmax(tf.nn.softmax(valds_pred[i])))\n",
    "createcm_classrpt(valdslabels,predids1by1,numclasses)"
   ]
  },
  {
   "cell_type": "markdown",
   "id": "d33d494b-5502-41ba-9a37-d6558803a254",
   "metadata": {},
   "source": [
    "## <font color = \"blue\">4-A-2. Tune1 Model:\n",
    "\n",
    "  As Base model is affected by overfitting, let's try to add early stopping and a DropOut layer to mitigate ovefitting. Model is defined in buildtunedcnn1 function."
   ]
  },
  {
   "cell_type": "code",
   "execution_count": 72,
   "id": "21415afd-ee3e-48f4-b067-56aae6afc1ac",
   "metadata": {},
   "outputs": [],
   "source": [
    "# 1B. Setup hyperparameters for tuned-cnn-1 model\n",
    "modelnm = \"tunedcnn1\"\n",
    "imghw,nepochs,ipbatchsz,SEED,valsplit = 256, 75, 32, 123, 0.1"
   ]
  },
  {
   "cell_type": "markdown",
   "id": "261d2164-e082-4f22-ba5f-7caf812abbab",
   "metadata": {},
   "source": [
    "**Load the data**"
   ]
  },
  {
   "cell_type": "code",
   "execution_count": 74,
   "id": "791f4902-8b7c-4b01-a239-f2573c05c30b",
   "metadata": {},
   "outputs": [
    {
     "name": "stdout",
     "output_type": "stream",
     "text": [
      "datasplitter:Inputs:Data\\birds, Split:0.1, Btchsz:32, SEED:123, Imghw:256\n",
      "Found 180 files belonging to 3 classes.\n",
      "Using 162 files for training.\n",
      "Found 180 files belonging to 3 classes.\n",
      "Using 18 files for validation.\n"
     ]
    }
   ],
   "source": [
    "# 2. Load & split data for sending to the Tune1 model:\n",
    "ds = datasplitter(dataimgsdir,valsplit,ipbatchsz=ipbatchsz,imghw=imghw,SEED=SEED)\n",
    "trainds, valds = ds[\"trainds\"], ds[\"valds\"]\n",
    "classes = trainds.class_names\n",
    "numclasses = len(classes)"
   ]
  },
  {
   "cell_type": "markdown",
   "id": "59291837-fd8e-4d13-bcb7-a2355c1401c8",
   "metadata": {},
   "source": [
    "**Create and train the Tune1 model for evaluation:**"
   ]
  },
  {
   "cell_type": "code",
   "execution_count": 11,
   "id": "d5d8b6da-c63c-43e8-a05f-11fd8f103411",
   "metadata": {},
   "outputs": [
    {
     "name": "stdout",
     "output_type": "stream",
     "text": [
      "Build_fit:tunedcnn1 model\n",
      "tunedcnn1: compile done\n",
      "tunedcnn1: Training started.\n",
      "Epoch 1/75\n",
      "\u001b[1m6/6\u001b[0m \u001b[32m━━━━━━━━━━━━━━━━━━━━\u001b[0m\u001b[37m\u001b[0m \u001b[1m5s\u001b[0m 394ms/step - accuracy: 0.2807 - loss: 1.7796 - val_accuracy: 0.5000 - val_loss: 1.0419\n",
      "Epoch 2/75\n",
      "\u001b[1m6/6\u001b[0m \u001b[32m━━━━━━━━━━━━━━━━━━━━\u001b[0m\u001b[37m\u001b[0m \u001b[1m2s\u001b[0m 353ms/step - accuracy: 0.4205 - loss: 1.0656 - val_accuracy: 0.2778 - val_loss: 1.1311\n",
      "Epoch 3/75\n",
      "\u001b[1m6/6\u001b[0m \u001b[32m━━━━━━━━━━━━━━━━━━━━\u001b[0m\u001b[37m\u001b[0m \u001b[1m2s\u001b[0m 383ms/step - accuracy: 0.3586 - loss: 1.1122 - val_accuracy: 0.2778 - val_loss: 1.0988\n",
      "Epoch 4/75\n",
      "\u001b[1m6/6\u001b[0m \u001b[32m━━━━━━━━━━━━━━━━━━━━\u001b[0m\u001b[37m\u001b[0m \u001b[1m3s\u001b[0m 428ms/step - accuracy: 0.6165 - loss: 0.9516 - val_accuracy: 0.6667 - val_loss: 0.9893\n",
      "Epoch 5/75\n",
      "\u001b[1m6/6\u001b[0m \u001b[32m━━━━━━━━━━━━━━━━━━━━\u001b[0m\u001b[37m\u001b[0m \u001b[1m2s\u001b[0m 386ms/step - accuracy: 0.7478 - loss: 0.7578 - val_accuracy: 0.4444 - val_loss: 0.8942\n",
      "Epoch 6/75\n",
      "\u001b[1m6/6\u001b[0m \u001b[32m━━━━━━━━━━━━━━━━━━━━\u001b[0m\u001b[37m\u001b[0m \u001b[1m2s\u001b[0m 391ms/step - accuracy: 0.8299 - loss: 0.4853 - val_accuracy: 0.7222 - val_loss: 0.7378\n",
      "Epoch 7/75\n",
      "\u001b[1m6/6\u001b[0m \u001b[32m━━━━━━━━━━━━━━━━━━━━\u001b[0m\u001b[37m\u001b[0m \u001b[1m2s\u001b[0m 386ms/step - accuracy: 0.8423 - loss: 0.4643 - val_accuracy: 0.6667 - val_loss: 0.7749\n",
      "Epoch 8/75\n",
      "\u001b[1m6/6\u001b[0m \u001b[32m━━━━━━━━━━━━━━━━━━━━\u001b[0m\u001b[37m\u001b[0m \u001b[1m2s\u001b[0m 368ms/step - accuracy: 0.8979 - loss: 0.3088 - val_accuracy: 0.6667 - val_loss: 0.6556\n",
      "Epoch 9/75\n",
      "\u001b[1m6/6\u001b[0m \u001b[32m━━━━━━━━━━━━━━━━━━━━\u001b[0m\u001b[37m\u001b[0m \u001b[1m2s\u001b[0m 376ms/step - accuracy: 0.9444 - loss: 0.2320 - val_accuracy: 0.6111 - val_loss: 1.1259\n",
      "Epoch 10/75\n",
      "\u001b[1m6/6\u001b[0m \u001b[32m━━━━━━━━━━━━━━━━━━━━\u001b[0m\u001b[37m\u001b[0m \u001b[1m2s\u001b[0m 385ms/step - accuracy: 0.8926 - loss: 0.2155 - val_accuracy: 0.6111 - val_loss: 0.9276\n",
      "Epoch 11/75\n",
      "\u001b[1m6/6\u001b[0m \u001b[32m━━━━━━━━━━━━━━━━━━━━\u001b[0m\u001b[37m\u001b[0m \u001b[1m2s\u001b[0m 353ms/step - accuracy: 0.9062 - loss: 0.1970 - val_accuracy: 0.6667 - val_loss: 0.7882\n",
      "Epoch 12/75\n",
      "\u001b[1m6/6\u001b[0m \u001b[32m━━━━━━━━━━━━━━━━━━━━\u001b[0m\u001b[37m\u001b[0m \u001b[1m2s\u001b[0m 363ms/step - accuracy: 0.9558 - loss: 0.1805 - val_accuracy: 0.6667 - val_loss: 0.5139\n",
      "Epoch 13/75\n",
      "\u001b[1m6/6\u001b[0m \u001b[32m━━━━━━━━━━━━━━━━━━━━\u001b[0m\u001b[37m\u001b[0m \u001b[1m2s\u001b[0m 379ms/step - accuracy: 0.9947 - loss: 0.0965 - val_accuracy: 0.6667 - val_loss: 0.8709\n",
      "Epoch 14/75\n",
      "\u001b[1m6/6\u001b[0m \u001b[32m━━━━━━━━━━━━━━━━━━━━\u001b[0m\u001b[37m\u001b[0m \u001b[1m3s\u001b[0m 387ms/step - accuracy: 1.0000 - loss: 0.0598 - val_accuracy: 0.7222 - val_loss: 0.8188\n",
      "Epoch 15/75\n",
      "\u001b[1m6/6\u001b[0m \u001b[32m━━━━━━━━━━━━━━━━━━━━\u001b[0m\u001b[37m\u001b[0m \u001b[1m3s\u001b[0m 438ms/step - accuracy: 0.9910 - loss: 0.0281 - val_accuracy: 0.6667 - val_loss: 0.7645\n",
      "Epoch 16/75\n",
      "\u001b[1m6/6\u001b[0m \u001b[32m━━━━━━━━━━━━━━━━━━━━\u001b[0m\u001b[37m\u001b[0m \u001b[1m2s\u001b[0m 375ms/step - accuracy: 0.9947 - loss: 0.0181 - val_accuracy: 0.7222 - val_loss: 0.7889\n",
      "Epoch 17/75\n",
      "\u001b[1m6/6\u001b[0m \u001b[32m━━━━━━━━━━━━━━━━━━━━\u001b[0m\u001b[37m\u001b[0m \u001b[1m2s\u001b[0m 377ms/step - accuracy: 0.9925 - loss: 0.0147 - val_accuracy: 0.8333 - val_loss: 0.6773\n",
      "Epoch 18/75\n",
      "\u001b[1m6/6\u001b[0m \u001b[32m━━━━━━━━━━━━━━━━━━━━\u001b[0m\u001b[37m\u001b[0m \u001b[1m3s\u001b[0m 466ms/step - accuracy: 1.0000 - loss: 0.0044 - val_accuracy: 0.7222 - val_loss: 0.6470\n",
      "Epoch 19/75\n",
      "\u001b[1m6/6\u001b[0m \u001b[32m━━━━━━━━━━━━━━━━━━━━\u001b[0m\u001b[37m\u001b[0m \u001b[1m3s\u001b[0m 435ms/step - accuracy: 1.0000 - loss: 0.0038 - val_accuracy: 0.7222 - val_loss: 0.6823\n",
      "Epoch 20/75\n",
      "\u001b[1m6/6\u001b[0m \u001b[32m━━━━━━━━━━━━━━━━━━━━\u001b[0m\u001b[37m\u001b[0m \u001b[1m2s\u001b[0m 374ms/step - accuracy: 1.0000 - loss: 0.0033 - val_accuracy: 0.7222 - val_loss: 0.6896\n",
      "Epoch 21/75\n",
      "\u001b[1m6/6\u001b[0m \u001b[32m━━━━━━━━━━━━━━━━━━━━\u001b[0m\u001b[37m\u001b[0m \u001b[1m2s\u001b[0m 366ms/step - accuracy: 1.0000 - loss: 0.0026 - val_accuracy: 0.7222 - val_loss: 0.7334\n",
      "Epoch 22/75\n",
      "\u001b[1m6/6\u001b[0m \u001b[32m━━━━━━━━━━━━━━━━━━━━\u001b[0m\u001b[37m\u001b[0m \u001b[1m3s\u001b[0m 386ms/step - accuracy: 1.0000 - loss: 0.0019 - val_accuracy: 0.7778 - val_loss: 0.7808\n",
      "Epoch 23/75\n",
      "\u001b[1m6/6\u001b[0m \u001b[32m━━━━━━━━━━━━━━━━━━━━\u001b[0m\u001b[37m\u001b[0m \u001b[1m2s\u001b[0m 361ms/step - accuracy: 1.0000 - loss: 0.0011 - val_accuracy: 0.7778 - val_loss: 0.8385\n",
      "Epoch 24/75\n",
      "\u001b[1m6/6\u001b[0m \u001b[32m━━━━━━━━━━━━━━━━━━━━\u001b[0m\u001b[37m\u001b[0m \u001b[1m2s\u001b[0m 360ms/step - accuracy: 1.0000 - loss: 8.3685e-04 - val_accuracy: 0.7778 - val_loss: 0.9129\n",
      "Epoch 25/75\n",
      "\u001b[1m6/6\u001b[0m \u001b[32m━━━━━━━━━━━━━━━━━━━━\u001b[0m\u001b[37m\u001b[0m \u001b[1m2s\u001b[0m 351ms/step - accuracy: 1.0000 - loss: 8.2869e-04 - val_accuracy: 0.6667 - val_loss: 0.9802\n",
      "Epoch 26/75\n",
      "\u001b[1m6/6\u001b[0m \u001b[32m━━━━━━━━━━━━━━━━━━━━\u001b[0m\u001b[37m\u001b[0m \u001b[1m2s\u001b[0m 343ms/step - accuracy: 1.0000 - loss: 7.9332e-04 - val_accuracy: 0.7222 - val_loss: 0.9987\n",
      "Epoch 27/75\n",
      "\u001b[1m6/6\u001b[0m \u001b[32m━━━━━━━━━━━━━━━━━━━━\u001b[0m\u001b[37m\u001b[0m \u001b[1m2s\u001b[0m 344ms/step - accuracy: 1.0000 - loss: 6.5507e-04 - val_accuracy: 0.6667 - val_loss: 1.0712\n",
      "Epoch 28/75\n",
      "\u001b[1m6/6\u001b[0m \u001b[32m━━━━━━━━━━━━━━━━━━━━\u001b[0m\u001b[37m\u001b[0m \u001b[1m2s\u001b[0m 344ms/step - accuracy: 1.0000 - loss: 8.9886e-04 - val_accuracy: 0.7222 - val_loss: 1.0553\n",
      "Epoch 29/75\n",
      "\u001b[1m6/6\u001b[0m \u001b[32m━━━━━━━━━━━━━━━━━━━━\u001b[0m\u001b[37m\u001b[0m \u001b[1m2s\u001b[0m 348ms/step - accuracy: 1.0000 - loss: 5.7320e-04 - val_accuracy: 0.7222 - val_loss: 1.0048\n",
      "Epoch 30/75\n",
      "\u001b[1m6/6\u001b[0m \u001b[32m━━━━━━━━━━━━━━━━━━━━\u001b[0m\u001b[37m\u001b[0m \u001b[1m2s\u001b[0m 377ms/step - accuracy: 1.0000 - loss: 5.1367e-04 - val_accuracy: 0.7778 - val_loss: 0.9814\n",
      "Epoch 31/75\n",
      "\u001b[1m6/6\u001b[0m \u001b[32m━━━━━━━━━━━━━━━━━━━━\u001b[0m\u001b[37m\u001b[0m \u001b[1m2s\u001b[0m 369ms/step - accuracy: 1.0000 - loss: 3.8856e-04 - val_accuracy: 0.7778 - val_loss: 1.0261\n",
      "Epoch 32/75\n",
      "\u001b[1m6/6\u001b[0m \u001b[32m━━━━━━━━━━━━━━━━━━━━\u001b[0m\u001b[37m\u001b[0m \u001b[1m2s\u001b[0m 350ms/step - accuracy: 1.0000 - loss: 3.9647e-04 - val_accuracy: 0.6667 - val_loss: 1.1180\n",
      "Epoch 33/75\n",
      "\u001b[1m6/6\u001b[0m \u001b[32m━━━━━━━━━━━━━━━━━━━━\u001b[0m\u001b[37m\u001b[0m \u001b[1m2s\u001b[0m 358ms/step - accuracy: 1.0000 - loss: 5.1984e-04 - val_accuracy: 0.7222 - val_loss: 1.1697\n",
      "Epoch 34/75\n",
      "\u001b[1m6/6\u001b[0m \u001b[32m━━━━━━━━━━━━━━━━━━━━\u001b[0m\u001b[37m\u001b[0m \u001b[1m2s\u001b[0m 351ms/step - accuracy: 1.0000 - loss: 2.5390e-04 - val_accuracy: 0.7222 - val_loss: 1.1889\n",
      "Epoch 35/75\n",
      "\u001b[1m6/6\u001b[0m \u001b[32m━━━━━━━━━━━━━━━━━━━━\u001b[0m\u001b[37m\u001b[0m \u001b[1m2s\u001b[0m 357ms/step - accuracy: 1.0000 - loss: 2.5055e-04 - val_accuracy: 0.7222 - val_loss: 1.1324\n",
      "Epoch 36/75\n",
      "\u001b[1m6/6\u001b[0m \u001b[32m━━━━━━━━━━━━━━━━━━━━\u001b[0m\u001b[37m\u001b[0m \u001b[1m2s\u001b[0m 351ms/step - accuracy: 1.0000 - loss: 2.4344e-04 - val_accuracy: 0.7222 - val_loss: 1.1215\n",
      "Epoch 37/75\n",
      "\u001b[1m6/6\u001b[0m \u001b[32m━━━━━━━━━━━━━━━━━━━━\u001b[0m\u001b[37m\u001b[0m \u001b[1m2s\u001b[0m 350ms/step - accuracy: 1.0000 - loss: 2.1845e-04 - val_accuracy: 0.7222 - val_loss: 1.1247\n",
      "Epoch 38/75\n",
      "\u001b[1m6/6\u001b[0m \u001b[32m━━━━━━━━━━━━━━━━━━━━\u001b[0m\u001b[37m\u001b[0m \u001b[1m2s\u001b[0m 362ms/step - accuracy: 1.0000 - loss: 1.9300e-04 - val_accuracy: 0.7222 - val_loss: 1.1376\n",
      "Epoch 39/75\n",
      "\u001b[1m6/6\u001b[0m \u001b[32m━━━━━━━━━━━━━━━━━━━━\u001b[0m\u001b[37m\u001b[0m \u001b[1m2s\u001b[0m 371ms/step - accuracy: 1.0000 - loss: 2.5947e-04 - val_accuracy: 0.7222 - val_loss: 1.1501\n",
      "Epoch 40/75\n",
      "\u001b[1m6/6\u001b[0m \u001b[32m━━━━━━━━━━━━━━━━━━━━\u001b[0m\u001b[37m\u001b[0m \u001b[1m3s\u001b[0m 417ms/step - accuracy: 1.0000 - loss: 2.0210e-04 - val_accuracy: 0.7222 - val_loss: 1.1688\n",
      "Epoch 41/75\n",
      "\u001b[1m6/6\u001b[0m \u001b[32m━━━━━━━━━━━━━━━━━━━━\u001b[0m\u001b[37m\u001b[0m \u001b[1m3s\u001b[0m 403ms/step - accuracy: 1.0000 - loss: 2.2050e-04 - val_accuracy: 0.7222 - val_loss: 1.1744\n",
      "Epoch 42/75\n",
      "\u001b[1m6/6\u001b[0m \u001b[32m━━━━━━━━━━━━━━━━━━━━\u001b[0m\u001b[37m\u001b[0m \u001b[1m3s\u001b[0m 388ms/step - accuracy: 1.0000 - loss: 1.7023e-04 - val_accuracy: 0.7222 - val_loss: 1.1575\n",
      "Epoch 43/75\n",
      "\u001b[1m6/6\u001b[0m \u001b[32m━━━━━━━━━━━━━━━━━━━━\u001b[0m\u001b[37m\u001b[0m \u001b[1m2s\u001b[0m 369ms/step - accuracy: 1.0000 - loss: 1.3865e-04 - val_accuracy: 0.7222 - val_loss: 1.1360\n",
      "Epoch 44/75\n",
      "\u001b[1m6/6\u001b[0m \u001b[32m━━━━━━━━━━━━━━━━━━━━\u001b[0m\u001b[37m\u001b[0m \u001b[1m2s\u001b[0m 366ms/step - accuracy: 1.0000 - loss: 1.8274e-04 - val_accuracy: 0.7222 - val_loss: 1.1145\n",
      "Epoch 45/75\n",
      "\u001b[1m6/6\u001b[0m \u001b[32m━━━━━━━━━━━━━━━━━━━━\u001b[0m\u001b[37m\u001b[0m \u001b[1m2s\u001b[0m 371ms/step - accuracy: 1.0000 - loss: 2.2226e-04 - val_accuracy: 0.7778 - val_loss: 1.1086\n",
      "Epoch 46/75\n",
      "\u001b[1m6/6\u001b[0m \u001b[32m━━━━━━━━━━━━━━━━━━━━\u001b[0m\u001b[37m\u001b[0m \u001b[1m2s\u001b[0m 383ms/step - accuracy: 1.0000 - loss: 1.2849e-04 - val_accuracy: 0.7778 - val_loss: 1.1125\n",
      "Epoch 47/75\n",
      "\u001b[1m6/6\u001b[0m \u001b[32m━━━━━━━━━━━━━━━━━━━━\u001b[0m\u001b[37m\u001b[0m \u001b[1m3s\u001b[0m 381ms/step - accuracy: 1.0000 - loss: 1.3650e-04 - val_accuracy: 0.7778 - val_loss: 1.1262\n",
      "Epoch 48/75\n",
      "\u001b[1m6/6\u001b[0m \u001b[32m━━━━━━━━━━━━━━━━━━━━\u001b[0m\u001b[37m\u001b[0m \u001b[1m2s\u001b[0m 390ms/step - accuracy: 1.0000 - loss: 1.4770e-04 - val_accuracy: 0.7778 - val_loss: 1.1456\n",
      "Epoch 49/75\n",
      "\u001b[1m6/6\u001b[0m \u001b[32m━━━━━━━━━━━━━━━━━━━━\u001b[0m\u001b[37m\u001b[0m \u001b[1m2s\u001b[0m 375ms/step - accuracy: 1.0000 - loss: 1.1266e-04 - val_accuracy: 0.7778 - val_loss: 1.1725\n",
      "Epoch 50/75\n",
      "\u001b[1m6/6\u001b[0m \u001b[32m━━━━━━━━━━━━━━━━━━━━\u001b[0m\u001b[37m\u001b[0m \u001b[1m2s\u001b[0m 379ms/step - accuracy: 1.0000 - loss: 1.2467e-04 - val_accuracy: 0.7778 - val_loss: 1.1805\n",
      "Epoch 51/75\n",
      "\u001b[1m6/6\u001b[0m \u001b[32m━━━━━━━━━━━━━━━━━━━━\u001b[0m\u001b[37m\u001b[0m \u001b[1m2s\u001b[0m 376ms/step - accuracy: 1.0000 - loss: 1.1365e-04 - val_accuracy: 0.7778 - val_loss: 1.1604\n",
      "Epoch 52/75\n",
      "\u001b[1m6/6\u001b[0m \u001b[32m━━━━━━━━━━━━━━━━━━━━\u001b[0m\u001b[37m\u001b[0m \u001b[1m2s\u001b[0m 386ms/step - accuracy: 1.0000 - loss: 9.4671e-05 - val_accuracy: 0.7778 - val_loss: 1.1586\n",
      "Epoch 53/75\n",
      "\u001b[1m6/6\u001b[0m \u001b[32m━━━━━━━━━━━━━━━━━━━━\u001b[0m\u001b[37m\u001b[0m \u001b[1m2s\u001b[0m 364ms/step - accuracy: 1.0000 - loss: 8.2799e-05 - val_accuracy: 0.7778 - val_loss: 1.1683\n",
      "Epoch 54/75\n",
      "\u001b[1m6/6\u001b[0m \u001b[32m━━━━━━━━━━━━━━━━━━━━\u001b[0m\u001b[37m\u001b[0m \u001b[1m2s\u001b[0m 372ms/step - accuracy: 1.0000 - loss: 8.3897e-05 - val_accuracy: 0.7778 - val_loss: 1.1705\n",
      "Epoch 55/75\n",
      "\u001b[1m6/6\u001b[0m \u001b[32m━━━━━━━━━━━━━━━━━━━━\u001b[0m\u001b[37m\u001b[0m \u001b[1m2s\u001b[0m 368ms/step - accuracy: 1.0000 - loss: 7.9195e-05 - val_accuracy: 0.7778 - val_loss: 1.1654\n",
      "Epoch 56/75\n",
      "\u001b[1m6/6\u001b[0m \u001b[32m━━━━━━━━━━━━━━━━━━━━\u001b[0m\u001b[37m\u001b[0m \u001b[1m2s\u001b[0m 375ms/step - accuracy: 1.0000 - loss: 7.7788e-05 - val_accuracy: 0.7778 - val_loss: 1.1806\n",
      "Epoch 57/75\n",
      "\u001b[1m6/6\u001b[0m \u001b[32m━━━━━━━━━━━━━━━━━━━━\u001b[0m\u001b[37m\u001b[0m \u001b[1m2s\u001b[0m 368ms/step - accuracy: 1.0000 - loss: 7.2890e-05 - val_accuracy: 0.7778 - val_loss: 1.1918\n",
      "Epoch 58/75\n",
      "\u001b[1m6/6\u001b[0m \u001b[32m━━━━━━━━━━━━━━━━━━━━\u001b[0m\u001b[37m\u001b[0m \u001b[1m3s\u001b[0m 401ms/step - accuracy: 1.0000 - loss: 7.9065e-05 - val_accuracy: 0.7778 - val_loss: 1.2011\n",
      "Epoch 59/75\n",
      "\u001b[1m6/6\u001b[0m \u001b[32m━━━━━━━━━━━━━━━━━━━━\u001b[0m\u001b[37m\u001b[0m \u001b[1m3s\u001b[0m 405ms/step - accuracy: 1.0000 - loss: 7.0311e-05 - val_accuracy: 0.7778 - val_loss: 1.1830\n",
      "Epoch 60/75\n",
      "\u001b[1m6/6\u001b[0m \u001b[32m━━━━━━━━━━━━━━━━━━━━\u001b[0m\u001b[37m\u001b[0m \u001b[1m2s\u001b[0m 359ms/step - accuracy: 1.0000 - loss: 8.9057e-05 - val_accuracy: 0.7778 - val_loss: 1.1817\n",
      "Epoch 61/75\n",
      "\u001b[1m6/6\u001b[0m \u001b[32m━━━━━━━━━━━━━━━━━━━━\u001b[0m\u001b[37m\u001b[0m \u001b[1m2s\u001b[0m 384ms/step - accuracy: 1.0000 - loss: 7.7055e-05 - val_accuracy: 0.7778 - val_loss: 1.1951\n",
      "Epoch 62/75\n",
      "\u001b[1m6/6\u001b[0m \u001b[32m━━━━━━━━━━━━━━━━━━━━\u001b[0m\u001b[37m\u001b[0m \u001b[1m2s\u001b[0m 385ms/step - accuracy: 1.0000 - loss: 6.6525e-05 - val_accuracy: 0.7778 - val_loss: 1.2143\n",
      "Epoch 63/75\n",
      "\u001b[1m6/6\u001b[0m \u001b[32m━━━━━━━━━━━━━━━━━━━━\u001b[0m\u001b[37m\u001b[0m \u001b[1m2s\u001b[0m 379ms/step - accuracy: 1.0000 - loss: 6.4509e-05 - val_accuracy: 0.7778 - val_loss: 1.2284\n",
      "Epoch 64/75\n",
      "\u001b[1m6/6\u001b[0m \u001b[32m━━━━━━━━━━━━━━━━━━━━\u001b[0m\u001b[37m\u001b[0m \u001b[1m2s\u001b[0m 375ms/step - accuracy: 1.0000 - loss: 5.8239e-05 - val_accuracy: 0.7778 - val_loss: 1.2229\n",
      "Epoch 65/75\n",
      "\u001b[1m6/6\u001b[0m \u001b[32m━━━━━━━━━━━━━━━━━━━━\u001b[0m\u001b[37m\u001b[0m \u001b[1m2s\u001b[0m 368ms/step - accuracy: 1.0000 - loss: 5.3711e-05 - val_accuracy: 0.7778 - val_loss: 1.1958\n",
      "Epoch 66/75\n",
      "\u001b[1m6/6\u001b[0m \u001b[32m━━━━━━━━━━━━━━━━━━━━\u001b[0m\u001b[37m\u001b[0m \u001b[1m2s\u001b[0m 353ms/step - accuracy: 1.0000 - loss: 7.5475e-05 - val_accuracy: 0.7778 - val_loss: 1.2158\n",
      "Epoch 67/75\n",
      "\u001b[1m6/6\u001b[0m \u001b[32m━━━━━━━━━━━━━━━━━━━━\u001b[0m\u001b[37m\u001b[0m \u001b[1m2s\u001b[0m 368ms/step - accuracy: 1.0000 - loss: 5.3723e-05 - val_accuracy: 0.7778 - val_loss: 1.2488\n",
      "Epoch 68/75\n",
      "\u001b[1m6/6\u001b[0m \u001b[32m━━━━━━━━━━━━━━━━━━━━\u001b[0m\u001b[37m\u001b[0m \u001b[1m2s\u001b[0m 361ms/step - accuracy: 1.0000 - loss: 6.3484e-05 - val_accuracy: 0.7778 - val_loss: 1.2265\n",
      "Epoch 69/75\n",
      "\u001b[1m6/6\u001b[0m \u001b[32m━━━━━━━━━━━━━━━━━━━━\u001b[0m\u001b[37m\u001b[0m \u001b[1m2s\u001b[0m 372ms/step - accuracy: 1.0000 - loss: 5.0130e-05 - val_accuracy: 0.7778 - val_loss: 1.2143\n",
      "Epoch 70/75\n",
      "\u001b[1m6/6\u001b[0m \u001b[32m━━━━━━━━━━━━━━━━━━━━\u001b[0m\u001b[37m\u001b[0m \u001b[1m2s\u001b[0m 375ms/step - accuracy: 1.0000 - loss: 6.2506e-05 - val_accuracy: 0.7778 - val_loss: 1.2154\n",
      "Epoch 71/75\n",
      "\u001b[1m6/6\u001b[0m \u001b[32m━━━━━━━━━━━━━━━━━━━━\u001b[0m\u001b[37m\u001b[0m \u001b[1m2s\u001b[0m 355ms/step - accuracy: 1.0000 - loss: 5.8972e-05 - val_accuracy: 0.7778 - val_loss: 1.2452\n",
      "Epoch 72/75\n",
      "\u001b[1m6/6\u001b[0m \u001b[32m━━━━━━━━━━━━━━━━━━━━\u001b[0m\u001b[37m\u001b[0m \u001b[1m2s\u001b[0m 353ms/step - accuracy: 1.0000 - loss: 5.9127e-05 - val_accuracy: 0.7778 - val_loss: 1.2518\n",
      "Epoch 73/75\n",
      "\u001b[1m6/6\u001b[0m \u001b[32m━━━━━━━━━━━━━━━━━━━━\u001b[0m\u001b[37m\u001b[0m \u001b[1m2s\u001b[0m 355ms/step - accuracy: 1.0000 - loss: 4.4971e-05 - val_accuracy: 0.7778 - val_loss: 1.2525\n",
      "Epoch 74/75\n",
      "\u001b[1m6/6\u001b[0m \u001b[32m━━━━━━━━━━━━━━━━━━━━\u001b[0m\u001b[37m\u001b[0m \u001b[1m2s\u001b[0m 373ms/step - accuracy: 1.0000 - loss: 4.6695e-05 - val_accuracy: 0.7778 - val_loss: 1.2685\n",
      "Epoch 75/75\n",
      "\u001b[1m6/6\u001b[0m \u001b[32m━━━━━━━━━━━━━━━━━━━━\u001b[0m\u001b[37m\u001b[0m \u001b[1m2s\u001b[0m 368ms/step - accuracy: 1.0000 - loss: 5.2370e-05 - val_accuracy: 0.7778 - val_loss: 1.2970\n",
      "tunedcnn1: Training done.\n",
      "getstopepoch:earlystopat:0\n",
      "tunedcnn1:epochs_range:range(0, 75),acc.len:75,epochs:75,stopat:75\n"
     ]
    }
   ],
   "source": [
    "# 3. Build and train selected model:\n",
    "print(\"Build_fit:{} model\".format(modelnm))\n",
    "model, hist, nepochsran = buildtunedcnn1(trainds,valds,valsplit=valsplit,nepochs=nepochs,imghw=imghw)"
   ]
  },
  {
   "cell_type": "markdown",
   "id": "2d390a59-85cd-4778-8f7c-3c890b8af835",
   "metadata": {},
   "source": [
    "**Plot Accuracy, Loss, Confusion Matrix, Classification Report from the Tune1 model's training and predictions:**"
   ]
  },
  {
   "cell_type": "code",
   "execution_count": 100,
   "id": "4f5054fb-3f84-4d77-b74b-eba72efface8",
   "metadata": {},
   "outputs": [
    {
     "data": {
      "image/png": "[encoded data removed]",
      "text/plain": [
       "<Figure size 400x400 with 2 Axes>"
      ]
     },
     "metadata": {},
     "output_type": "display_data"
    }
   ],
   "source": [
    "# 4. View loss and accuracy after model training\n",
    "plotaccloss(hist,modelnm)"
   ]
  },
  {
   "cell_type": "code",
   "execution_count": 102,
   "id": "70fed8b1-95c2-4df0-ac21-2afb3e78c743",
   "metadata": {},
   "outputs": [
    {
     "name": "stdout",
     "output_type": "stream",
     "text": [
      "Classification Report:\n",
      "              precision    recall  f1-score   support\n",
      "\n",
      "           0       1.00      0.83      0.91         6\n",
      "           1       0.71      0.83      0.77         6\n",
      "           2       0.67      0.67      0.67         6\n",
      "\n",
      "    accuracy                           0.78        18\n",
      "   macro avg       0.79      0.78      0.78        18\n",
      "weighted avg       0.79      0.78      0.78        18\n",
      "\n",
      "Confusion matrix:\n",
      "[[5 0 1]\n",
      " [0 5 1]\n",
      " [0 2 4]]\n"
     ]
    },
    {
     "data": {
      "image/png": "[encoded data removed]",
      "text/plain": [
       "<Figure size 100x100 with 2 Axes>"
      ]
     },
     "metadata": {},
     "output_type": "display_data"
    }
   ],
   "source": [
    "# 5. Analyse performance with confusion matrix and classification report:\n",
    "valds_pred = model.predict(valds,verbose=False)\n",
    "valdslabels,predids1by1 = [],[]\n",
    "for images, labels in valds:\n",
    "    valdslabels = labels\n",
    "    for i in range(len(labels)):\n",
    "        predids1by1.append(np.argmax(tf.nn.softmax(valds_pred[i])))\n",
    "createcm_classrpt(valdslabels,predids1by1,numclasses)"
   ]
  },
  {
   "cell_type": "markdown",
   "id": "38186740-a36a-4fbe-9eb4-7d32dbd1f224",
   "metadata": {},
   "source": [
    "## <font color = \"blue\">4-A-3. Tune2 Model:\n",
    "\n",
    "  Though, improvements in Tune1 model has reduced overfitting to some extent, model still have room for improvements.\n",
    "  \n",
    "Let's tune the hyperparameters more.\n",
    "* 0.1 validation split gives only 54 images for Training. Slightly reduce validation split to 0.05, 57 Training images.\n",
    "* Add 4 image augmentations - Flip, Zoom, Translation(Shift) and Rotation, to further increase Training images.\n",
    "* Increase the number of epochs to give more learning time for the model.\n",
    "* Reduce image size (h x w) to 200x200 to reduce impact of any visual noise in the images.\n",
    "* Add DropOuts per block also to reduce the overfitting.\n",
    "* Retain the EarlyStopping.\n",
    "\n",
    "Tune2 model is defined in buildtunedcnn2 function."
   ]
  },
  {
   "cell_type": "code",
   "execution_count": 77,
   "id": "73a3d2f0-831c-4c6d-a82f-2bb7a2084e97",
   "metadata": {},
   "outputs": [],
   "source": [
    "# 1C. Setup hyperparameters for tuned-cnn-2 model\n",
    "modelnm = \"tunedcnn2\"\n",
    "imghw,nepochs,ipbatchsz,SEED,valsplit = 200, 500, 256, 123, 0.05"
   ]
  },
  {
   "cell_type": "markdown",
   "id": "b4ab30bc-d1fb-4a4f-94a6-0b575d52be17",
   "metadata": {},
   "source": [
    "**Load the data**"
   ]
  },
  {
   "cell_type": "code",
   "execution_count": 79,
   "id": "bac5d383-ae0c-45e5-8124-d5a14f8d5fa4",
   "metadata": {},
   "outputs": [
    {
     "name": "stdout",
     "output_type": "stream",
     "text": [
      "datasplitter:Inputs:Data\\birds, Split:0.05, Btchsz:256, SEED:123, Imghw:200\n",
      "Found 180 files belonging to 3 classes.\n",
      "Using 171 files for training.\n",
      "Found 180 files belonging to 3 classes.\n",
      "Using 9 files for validation.\n"
     ]
    }
   ],
   "source": [
    "# 2. Load & split data for sending to the Tune2 model:\n",
    "ds = datasplitter(dataimgsdir,valsplit,ipbatchsz=ipbatchsz,imghw=imghw,SEED=SEED)\n",
    "trainds, valds = ds[\"trainds\"], ds[\"valds\"]\n",
    "classes = trainds.class_names\n",
    "numclasses = len(classes)"
   ]
  },
  {
   "cell_type": "markdown",
   "id": "43a6a7d3-f5d4-40aa-94a8-53e8aa86c6ff",
   "metadata": {},
   "source": [
    "**Create and train the Tune2 model for evaluation:**"
   ]
  },
  {
   "cell_type": "code",
   "execution_count": 11,
   "id": "38474dd1-ca83-4495-bb42-52f44eaa0866",
   "metadata": {},
   "outputs": [
    {
     "name": "stdout",
     "output_type": "stream",
     "text": [
      "Build_fit:tunedcnn2 model\n",
      "tunedcnn2: compile done\n",
      "tunedcnn2: Training started.\n",
      "Epoch 1/500\n",
      "\u001b[1m1/1\u001b[0m \u001b[32m━━━━━━━━━━━━━━━━━━━━\u001b[0m\u001b[37m\u001b[0m \u001b[1m5s\u001b[0m 5s/step - accuracy: 0.3041 - loss: 1.1285 - val_accuracy: 0.3333 - val_loss: 2.1565\n",
      "Epoch 2/500\n",
      "\u001b[1m1/1\u001b[0m \u001b[32m━━━━━━━━━━━━━━━━━━━━\u001b[0m\u001b[37m\u001b[0m \u001b[1m2s\u001b[0m 2s/step - accuracy: 0.3333 - loss: 5.6449 - val_accuracy: 0.3333 - val_loss: 2.9669\n",
      "Epoch 3/500\n",
      "\u001b[1m1/1\u001b[0m \u001b[32m━━━━━━━━━━━━━━━━━━━━\u001b[0m\u001b[37m\u001b[0m \u001b[1m1s\u001b[0m 1s/step - accuracy: 0.3626 - loss: 7.3458 - val_accuracy: 0.3333 - val_loss: 3.2936\n",
      "Epoch 4/500\n",
      "\u001b[1m1/1\u001b[0m \u001b[32m━━━━━━━━━━━━━━━━━━━━\u001b[0m\u001b[37m\u001b[0m \u001b[1m1s\u001b[0m 1s/step - accuracy: 0.3333 - loss: 9.4710 - val_accuracy: 0.3333 - val_loss: 2.2627\n",
      "Epoch 5/500\n",
      "\u001b[1m1/1\u001b[0m \u001b[32m━━━━━━━━━━━━━━━━━━━━\u001b[0m\u001b[37m\u001b[0m \u001b[1m1s\u001b[0m 1s/step - accuracy: 0.3333 - loss: 6.0820 - val_accuracy: 0.3333 - val_loss: 1.6815\n",
      "Epoch 6/500\n",
      "\u001b[1m1/1\u001b[0m \u001b[32m━━━━━━━━━━━━━━━━━━━━\u001b[0m\u001b[37m\u001b[0m \u001b[1m1s\u001b[0m 1s/step - accuracy: 0.3392 - loss: 3.9413 - val_accuracy: 0.3333 - val_loss: 1.3581\n",
      "Epoch 7/500\n",
      "\u001b[1m1/1\u001b[0m \u001b[32m━━━━━━━━━━━━━━━━━━━━\u001b[0m\u001b[37m\u001b[0m \u001b[1m2s\u001b[0m 2s/step - accuracy: 0.3333 - loss: 3.0431 - val_accuracy: 0.3333 - val_loss: 1.1599\n",
      "Epoch 8/500\n",
      "\u001b[1m1/1\u001b[0m \u001b[32m━━━━━━━━━━━━━━━━━━━━\u001b[0m\u001b[37m\u001b[0m \u001b[1m2s\u001b[0m 2s/step - accuracy: 0.3333 - loss: 2.0411 - val_accuracy: 0.3333 - val_loss: 1.0929\n",
      "Epoch 9/500\n",
      "\u001b[1m1/1\u001b[0m \u001b[32m━━━━━━━━━━━━━━━━━━━━\u001b[0m\u001b[37m\u001b[0m \u001b[1m2s\u001b[0m 2s/step - accuracy: 0.3333 - loss: 1.4047 - val_accuracy: 0.3333 - val_loss: 1.0867\n",
      "Epoch 10/500\n",
      "\u001b[1m1/1\u001b[0m \u001b[32m━━━━━━━━━━━━━━━━━━━━\u001b[0m\u001b[37m\u001b[0m \u001b[1m2s\u001b[0m 2s/step - accuracy: 0.3333 - loss: 1.1436 - val_accuracy: 0.3333 - val_loss: 1.0911\n",
      "Epoch 11/500\n",
      "\u001b[1m1/1\u001b[0m \u001b[32m━━━━━━━━━━━━━━━━━━━━\u001b[0m\u001b[37m\u001b[0m \u001b[1m2s\u001b[0m 2s/step - accuracy: 0.3333 - loss: 1.0905 - val_accuracy: 0.5556 - val_loss: 1.0955\n",
      "Epoch 12/500\n",
      "\u001b[1m1/1\u001b[0m \u001b[32m━━━━━━━━━━━━━━━━━━━━\u001b[0m\u001b[37m\u001b[0m \u001b[1m2s\u001b[0m 2s/step - accuracy: 0.3509 - loss: 1.0892 - val_accuracy: 0.3333 - val_loss: 1.0975\n",
      "Epoch 13/500\n",
      "\u001b[1m1/1\u001b[0m \u001b[32m━━━━━━━━━━━━━━━━━━━━\u001b[0m\u001b[37m\u001b[0m \u001b[1m2s\u001b[0m 2s/step - accuracy: 0.3684 - loss: 1.0949 - val_accuracy: 0.3333 - val_loss: 1.0977\n",
      "Epoch 14/500\n",
      "\u001b[1m1/1\u001b[0m \u001b[32m━━━━━━━━━━━━━━━━━━━━\u001b[0m\u001b[37m\u001b[0m \u001b[1m2s\u001b[0m 2s/step - accuracy: 0.3333 - loss: 1.0972 - val_accuracy: 0.3333 - val_loss: 1.0979\n",
      "Epoch 15/500\n",
      "\u001b[1m1/1\u001b[0m \u001b[32m━━━━━━━━━━━━━━━━━━━━\u001b[0m\u001b[37m\u001b[0m \u001b[1m2s\u001b[0m 2s/step - accuracy: 0.3333 - loss: 1.0986 - val_accuracy: 0.3333 - val_loss: 1.0981\n",
      "Epoch 16/500\n",
      "\u001b[1m1/1\u001b[0m \u001b[32m━━━━━━━━━━━━━━━━━━━━\u001b[0m\u001b[37m\u001b[0m \u001b[1m2s\u001b[0m 2s/step - accuracy: 0.3333 - loss: 1.0989 - val_accuracy: 0.3333 - val_loss: 1.0981\n",
      "Epoch 17/500\n",
      "\u001b[1m1/1\u001b[0m \u001b[32m━━━━━━━━━━━━━━━━━━━━\u001b[0m\u001b[37m\u001b[0m \u001b[1m2s\u001b[0m 2s/step - accuracy: 0.3333 - loss: 1.0989 - val_accuracy: 0.3333 - val_loss: 1.0981\n",
      "Epoch 18/500\n",
      "\u001b[1m1/1\u001b[0m \u001b[32m━━━━━━━━━━━━━━━━━━━━\u001b[0m\u001b[37m\u001b[0m \u001b[1m2s\u001b[0m 2s/step - accuracy: 0.3333 - loss: 1.0989 - val_accuracy: 0.3333 - val_loss: 1.0981\n",
      "Epoch 19/500\n",
      "\u001b[1m1/1\u001b[0m \u001b[32m━━━━━━━━━━━━━━━━━━━━\u001b[0m\u001b[37m\u001b[0m \u001b[1m2s\u001b[0m 2s/step - accuracy: 0.3333 - loss: 1.0984 - val_accuracy: 0.3333 - val_loss: 1.0980\n",
      "Epoch 20/500\n",
      "\u001b[1m1/1\u001b[0m \u001b[32m━━━━━━━━━━━━━━━━━━━━\u001b[0m\u001b[37m\u001b[0m \u001b[1m2s\u001b[0m 2s/step - accuracy: 0.3333 - loss: 1.0983 - val_accuracy: 0.3333 - val_loss: 1.0980\n",
      "Epoch 21/500\n",
      "\u001b[1m1/1\u001b[0m \u001b[32m━━━━━━━━━━━━━━━━━━━━\u001b[0m\u001b[37m\u001b[0m \u001b[1m2s\u001b[0m 2s/step - accuracy: 0.3275 - loss: 1.0988 - val_accuracy: 0.3333 - val_loss: 1.0981\n",
      "Epoch 22/500\n",
      "\u001b[1m1/1\u001b[0m \u001b[32m━━━━━━━━━━━━━━━━━━━━\u001b[0m\u001b[37m\u001b[0m \u001b[1m2s\u001b[0m 2s/step - accuracy: 0.3333 - loss: 1.0990 - val_accuracy: 0.3333 - val_loss: 1.0982\n",
      "Epoch 23/500\n",
      "\u001b[1m1/1\u001b[0m \u001b[32m━━━━━━━━━━━━━━━━━━━━\u001b[0m\u001b[37m\u001b[0m \u001b[1m2s\u001b[0m 2s/step - accuracy: 0.3216 - loss: 1.0987 - val_accuracy: 0.3333 - val_loss: 1.0982\n",
      "Epoch 24/500\n",
      "\u001b[1m1/1\u001b[0m \u001b[32m━━━━━━━━━━━━━━━━━━━━\u001b[0m\u001b[37m\u001b[0m \u001b[1m2s\u001b[0m 2s/step - accuracy: 0.3392 - loss: 1.0981 - val_accuracy: 0.3333 - val_loss: 1.0981\n",
      "Epoch 25/500\n",
      "\u001b[1m1/1\u001b[0m \u001b[32m━━━━━━━━━━━━━━━━━━━━\u001b[0m\u001b[37m\u001b[0m \u001b[1m2s\u001b[0m 2s/step - accuracy: 0.3041 - loss: 1.0989 - val_accuracy: 0.4444 - val_loss: 1.0980\n",
      "Epoch 26/500\n",
      "\u001b[1m1/1\u001b[0m \u001b[32m━━━━━━━━━━━━━━━━━━━━\u001b[0m\u001b[37m\u001b[0m \u001b[1m2s\u001b[0m 2s/step - accuracy: 0.3801 - loss: 1.0977 - val_accuracy: 0.4444 - val_loss: 1.0977\n",
      "Epoch 27/500\n",
      "\u001b[1m1/1\u001b[0m \u001b[32m━━━━━━━━━━━━━━━━━━━━\u001b[0m\u001b[37m\u001b[0m \u001b[1m2s\u001b[0m 2s/step - accuracy: 0.3333 - loss: 1.0979 - val_accuracy: 0.4444 - val_loss: 1.0976\n",
      "Epoch 28/500\n",
      "\u001b[1m1/1\u001b[0m \u001b[32m━━━━━━━━━━━━━━━━━━━━\u001b[0m\u001b[37m\u001b[0m \u001b[1m2s\u001b[0m 2s/step - accuracy: 0.3216 - loss: 1.0980 - val_accuracy: 0.4444 - val_loss: 1.0974\n",
      "Epoch 29/500\n",
      "\u001b[1m1/1\u001b[0m \u001b[32m━━━━━━━━━━━━━━━━━━━━\u001b[0m\u001b[37m\u001b[0m \u001b[1m2s\u001b[0m 2s/step - accuracy: 0.3509 - loss: 1.0985 - val_accuracy: 0.3333 - val_loss: 1.0974\n",
      "Epoch 30/500\n",
      "\u001b[1m1/1\u001b[0m \u001b[32m━━━━━━━━━━━━━━━━━━━━\u001b[0m\u001b[37m\u001b[0m \u001b[1m2s\u001b[0m 2s/step - accuracy: 0.3801 - loss: 1.0973 - val_accuracy: 0.3333 - val_loss: 1.0973\n",
      "Epoch 31/500\n",
      "\u001b[1m1/1\u001b[0m \u001b[32m━━━━━━━━━━━━━━━━━━━━\u001b[0m\u001b[37m\u001b[0m \u001b[1m2s\u001b[0m 2s/step - accuracy: 0.3392 - loss: 1.0978 - val_accuracy: 0.3333 - val_loss: 1.0971\n",
      "Epoch 32/500\n",
      "\u001b[1m1/1\u001b[0m \u001b[32m━━━━━━━━━━━━━━━━━━━━\u001b[0m\u001b[37m\u001b[0m \u001b[1m2s\u001b[0m 2s/step - accuracy: 0.3392 - loss: 1.0968 - val_accuracy: 0.4444 - val_loss: 1.0969\n",
      "Epoch 33/500\n",
      "\u001b[1m1/1\u001b[0m \u001b[32m━━━━━━━━━━━━━━━━━━━━\u001b[0m\u001b[37m\u001b[0m \u001b[1m2s\u001b[0m 2s/step - accuracy: 0.3860 - loss: 1.0971 - val_accuracy: 0.4444 - val_loss: 1.0966\n",
      "Epoch 34/500\n",
      "\u001b[1m1/1\u001b[0m \u001b[32m━━━━━━━━━━━━━━━━━━━━\u001b[0m\u001b[37m\u001b[0m \u001b[1m2s\u001b[0m 2s/step - accuracy: 0.3158 - loss: 1.0976 - val_accuracy: 0.4444 - val_loss: 1.0963\n",
      "Epoch 35/500\n",
      "\u001b[1m1/1\u001b[0m \u001b[32m━━━━━━━━━━━━━━━━━━━━\u001b[0m\u001b[37m\u001b[0m \u001b[1m2s\u001b[0m 2s/step - accuracy: 0.4152 - loss: 1.0962 - val_accuracy: 0.3333 - val_loss: 1.0958\n",
      "Epoch 36/500\n",
      "\u001b[1m1/1\u001b[0m \u001b[32m━━━━━━━━━━━━━━━━━━━━\u001b[0m\u001b[37m\u001b[0m \u001b[1m2s\u001b[0m 2s/step - accuracy: 0.3684 - loss: 1.0962 - val_accuracy: 0.2222 - val_loss: 1.0954\n",
      "Epoch 37/500\n",
      "\u001b[1m1/1\u001b[0m \u001b[32m━━━━━━━━━━━━━━━━━━━━\u001b[0m\u001b[37m\u001b[0m \u001b[1m2s\u001b[0m 2s/step - accuracy: 0.3801 - loss: 1.0958 - val_accuracy: 0.2222 - val_loss: 1.0950\n",
      "Epoch 38/500\n",
      "\u001b[1m1/1\u001b[0m \u001b[32m━━━━━━━━━━━━━━━━━━━━\u001b[0m\u001b[37m\u001b[0m \u001b[1m2s\u001b[0m 2s/step - accuracy: 0.3918 - loss: 1.0956 - val_accuracy: 0.2222 - val_loss: 1.0946\n",
      "Epoch 39/500\n",
      "\u001b[1m1/1\u001b[0m \u001b[32m━━━━━━━━━━━━━━━━━━━━\u001b[0m\u001b[37m\u001b[0m \u001b[1m2s\u001b[0m 2s/step - accuracy: 0.3626 - loss: 1.0938 - val_accuracy: 0.2222 - val_loss: 1.0947\n",
      "Epoch 40/500\n",
      "\u001b[1m1/1\u001b[0m \u001b[32m━━━━━━━━━━━━━━━━━━━━\u001b[0m\u001b[37m\u001b[0m \u001b[1m2s\u001b[0m 2s/step - accuracy: 0.3392 - loss: 1.0944 - val_accuracy: 0.2222 - val_loss: 1.0950\n",
      "Epoch 41/500\n",
      "\u001b[1m1/1\u001b[0m \u001b[32m━━━━━━━━━━━━━━━━━━━━\u001b[0m\u001b[37m\u001b[0m \u001b[1m2s\u001b[0m 2s/step - accuracy: 0.3333 - loss: 1.0935 - val_accuracy: 0.2222 - val_loss: 1.0950\n",
      "Epoch 42/500\n",
      "\u001b[1m1/1\u001b[0m \u001b[32m━━━━━━━━━━━━━━━━━━━━\u001b[0m\u001b[37m\u001b[0m \u001b[1m2s\u001b[0m 2s/step - accuracy: 0.3158 - loss: 1.0932 - val_accuracy: 0.2222 - val_loss: 1.0944\n",
      "Epoch 43/500\n",
      "\u001b[1m1/1\u001b[0m \u001b[32m━━━━━━━━━━━━━━━━━━━━\u001b[0m\u001b[37m\u001b[0m \u001b[1m2s\u001b[0m 2s/step - accuracy: 0.3567 - loss: 1.0895 - val_accuracy: 0.3333 - val_loss: 1.0943\n",
      "Epoch 44/500\n",
      "\u001b[1m1/1\u001b[0m \u001b[32m━━━━━━━━━━━━━━━━━━━━\u001b[0m\u001b[37m\u001b[0m \u001b[1m2s\u001b[0m 2s/step - accuracy: 0.3860 - loss: 1.0894 - val_accuracy: 0.3333 - val_loss: 1.0954\n",
      "Epoch 45/500\n",
      "\u001b[1m1/1\u001b[0m \u001b[32m━━━━━━━━━━━━━━━━━━━━\u001b[0m\u001b[37m\u001b[0m \u001b[1m2s\u001b[0m 2s/step - accuracy: 0.3450 - loss: 1.0877 - val_accuracy: 0.3333 - val_loss: 1.0980\n",
      "Epoch 46/500\n",
      "\u001b[1m1/1\u001b[0m \u001b[32m━━━━━━━━━━━━━━━━━━━━\u001b[0m\u001b[37m\u001b[0m \u001b[1m2s\u001b[0m 2s/step - accuracy: 0.3509 - loss: 1.0885 - val_accuracy: 0.3333 - val_loss: 1.0994\n",
      "Epoch 47/500\n",
      "\u001b[1m1/1\u001b[0m \u001b[32m━━━━━━━━━━━━━━━━━━━━\u001b[0m\u001b[37m\u001b[0m \u001b[1m2s\u001b[0m 2s/step - accuracy: 0.3860 - loss: 1.0834 - val_accuracy: 0.3333 - val_loss: 1.0987\n",
      "Epoch 48/500\n",
      "\u001b[1m1/1\u001b[0m \u001b[32m━━━━━━━━━━━━━━━━━━━━\u001b[0m\u001b[37m\u001b[0m \u001b[1m2s\u001b[0m 2s/step - accuracy: 0.4211 - loss: 1.0828 - val_accuracy: 0.3333 - val_loss: 1.0992\n",
      "Epoch 49/500\n",
      "\u001b[1m1/1\u001b[0m \u001b[32m━━━━━━━━━━━━━━━━━━━━\u001b[0m\u001b[37m\u001b[0m \u001b[1m2s\u001b[0m 2s/step - accuracy: 0.4152 - loss: 1.0778 - val_accuracy: 0.3333 - val_loss: 1.1008\n",
      "Epoch 50/500\n",
      "\u001b[1m1/1\u001b[0m \u001b[32m━━━━━━━━━━━━━━━━━━━━\u001b[0m\u001b[37m\u001b[0m \u001b[1m2s\u001b[0m 2s/step - accuracy: 0.4211 - loss: 1.0744 - val_accuracy: 0.3333 - val_loss: 1.1047\n",
      "Epoch 51/500\n",
      "\u001b[1m1/1\u001b[0m \u001b[32m━━━━━━━━━━━━━━━━━━━━\u001b[0m\u001b[37m\u001b[0m \u001b[1m2s\u001b[0m 2s/step - accuracy: 0.4094 - loss: 1.0692 - val_accuracy: 0.3333 - val_loss: 1.1051\n",
      "Epoch 52/500\n",
      "\u001b[1m1/1\u001b[0m \u001b[32m━━━━━━━━━━━━━━━━━━━━\u001b[0m\u001b[37m\u001b[0m \u001b[1m2s\u001b[0m 2s/step - accuracy: 0.4620 - loss: 1.0636 - val_accuracy: 0.3333 - val_loss: 1.1043\n",
      "Epoch 53/500\n",
      "\u001b[1m1/1\u001b[0m \u001b[32m━━━━━━━━━━━━━━━━━━━━\u001b[0m\u001b[37m\u001b[0m \u001b[1m2s\u001b[0m 2s/step - accuracy: 0.4444 - loss: 1.0644 - val_accuracy: 0.3333 - val_loss: 1.0876\n",
      "Epoch 54/500\n",
      "\u001b[1m1/1\u001b[0m \u001b[32m━━━━━━━━━━━━━━━━━━━━\u001b[0m\u001b[37m\u001b[0m \u001b[1m2s\u001b[0m 2s/step - accuracy: 0.4854 - loss: 1.0494 - val_accuracy: 0.3333 - val_loss: 1.0836\n",
      "Epoch 55/500\n",
      "\u001b[1m1/1\u001b[0m \u001b[32m━━━━━━━━━━━━━━━━━━━━\u001b[0m\u001b[37m\u001b[0m \u001b[1m2s\u001b[0m 2s/step - accuracy: 0.5088 - loss: 1.0389 - val_accuracy: 0.3333 - val_loss: 1.0858\n",
      "Epoch 56/500\n",
      "\u001b[1m1/1\u001b[0m \u001b[32m━━━━━━━━━━━━━━━━━━━━\u001b[0m\u001b[37m\u001b[0m \u001b[1m2s\u001b[0m 2s/step - accuracy: 0.5088 - loss: 1.0346 - val_accuracy: 0.3333 - val_loss: 1.0748\n",
      "Epoch 57/500\n",
      "\u001b[1m1/1\u001b[0m \u001b[32m━━━━━━━━━━━━━━━━━━━━\u001b[0m\u001b[37m\u001b[0m \u001b[1m2s\u001b[0m 2s/step - accuracy: 0.4795 - loss: 1.0369 - val_accuracy: 0.4444 - val_loss: 1.0330\n",
      "Epoch 58/500\n",
      "\u001b[1m1/1\u001b[0m \u001b[32m━━━━━━━━━━━━━━━━━━━━\u001b[0m\u001b[37m\u001b[0m \u001b[1m2s\u001b[0m 2s/step - accuracy: 0.4795 - loss: 1.0235 - val_accuracy: 0.3333 - val_loss: 1.0496\n",
      "Epoch 59/500\n",
      "\u001b[1m1/1\u001b[0m \u001b[32m━━━━━━━━━━━━━━━━━━━━\u001b[0m\u001b[37m\u001b[0m \u001b[1m2s\u001b[0m 2s/step - accuracy: 0.5322 - loss: 1.0041 - val_accuracy: 0.3333 - val_loss: 1.0293\n",
      "Epoch 60/500\n",
      "\u001b[1m1/1\u001b[0m \u001b[32m━━━━━━━━━━━━━━━━━━━━\u001b[0m\u001b[37m\u001b[0m \u001b[1m2s\u001b[0m 2s/step - accuracy: 0.5205 - loss: 0.9866 - val_accuracy: 0.3333 - val_loss: 0.9817\n",
      "Epoch 61/500\n",
      "\u001b[1m1/1\u001b[0m \u001b[32m━━━━━━━━━━━━━━━━━━━━\u001b[0m\u001b[37m\u001b[0m \u001b[1m2s\u001b[0m 2s/step - accuracy: 0.4854 - loss: 0.9991 - val_accuracy: 0.3333 - val_loss: 0.9610\n",
      "Epoch 62/500\n",
      "\u001b[1m1/1\u001b[0m \u001b[32m━━━━━━━━━━━━━━━━━━━━\u001b[0m\u001b[37m\u001b[0m \u001b[1m2s\u001b[0m 2s/step - accuracy: 0.5146 - loss: 0.9608 - val_accuracy: 0.3333 - val_loss: 0.9581\n",
      "Epoch 63/500\n",
      "\u001b[1m1/1\u001b[0m \u001b[32m━━━━━━━━━━━━━━━━━━━━\u001b[0m\u001b[37m\u001b[0m \u001b[1m2s\u001b[0m 2s/step - accuracy: 0.5146 - loss: 0.9588 - val_accuracy: 0.5556 - val_loss: 0.8925\n",
      "Epoch 64/500\n",
      "\u001b[1m1/1\u001b[0m \u001b[32m━━━━━━━━━━━━━━━━━━━━\u001b[0m\u001b[37m\u001b[0m \u001b[1m2s\u001b[0m 2s/step - accuracy: 0.4971 - loss: 0.9520 - val_accuracy: 0.4444 - val_loss: 0.9407\n",
      "Epoch 65/500\n",
      "\u001b[1m1/1\u001b[0m \u001b[32m━━━━━━━━━━━━━━━━━━━━\u001b[0m\u001b[37m\u001b[0m \u001b[1m2s\u001b[0m 2s/step - accuracy: 0.4561 - loss: 0.9921 - val_accuracy: 0.5556 - val_loss: 0.8595\n",
      "Epoch 66/500\n",
      "\u001b[1m1/1\u001b[0m \u001b[32m━━━━━━━━━━━━━━━━━━━━\u001b[0m\u001b[37m\u001b[0m \u001b[1m2s\u001b[0m 2s/step - accuracy: 0.4912 - loss: 0.9609 - val_accuracy: 0.4444 - val_loss: 0.8660\n",
      "Epoch 67/500\n",
      "\u001b[1m1/1\u001b[0m \u001b[32m━━━━━━━━━━━━━━━━━━━━\u001b[0m\u001b[37m\u001b[0m \u001b[1m2s\u001b[0m 2s/step - accuracy: 0.5263 - loss: 0.9582 - val_accuracy: 0.4444 - val_loss: 0.9076\n",
      "Epoch 68/500\n",
      "\u001b[1m1/1\u001b[0m \u001b[32m━━━━━━━━━━━━━━━━━━━━\u001b[0m\u001b[37m\u001b[0m \u001b[1m2s\u001b[0m 2s/step - accuracy: 0.4854 - loss: 0.9301 - val_accuracy: 0.5556 - val_loss: 0.8299\n",
      "Epoch 69/500\n",
      "\u001b[1m1/1\u001b[0m \u001b[32m━━━━━━━━━━━━━━━━━━━━\u001b[0m\u001b[37m\u001b[0m \u001b[1m2s\u001b[0m 2s/step - accuracy: 0.5263 - loss: 0.9238 - val_accuracy: 0.5556 - val_loss: 0.8341\n",
      "Epoch 70/500\n",
      "\u001b[1m1/1\u001b[0m \u001b[32m━━━━━━━━━━━━━━━━━━━━\u001b[0m\u001b[37m\u001b[0m \u001b[1m2s\u001b[0m 2s/step - accuracy: 0.5380 - loss: 0.9210 - val_accuracy: 0.5556 - val_loss: 0.8537\n",
      "Epoch 71/500\n",
      "\u001b[1m1/1\u001b[0m \u001b[32m━━━━━━━━━━━━━━━━━━━━\u001b[0m\u001b[37m\u001b[0m \u001b[1m2s\u001b[0m 2s/step - accuracy: 0.4912 - loss: 0.9404 - val_accuracy: 0.5556 - val_loss: 0.8310\n",
      "Epoch 72/500\n",
      "\u001b[1m1/1\u001b[0m \u001b[32m━━━━━━━━━━━━━━━━━━━━\u001b[0m\u001b[37m\u001b[0m \u001b[1m2s\u001b[0m 2s/step - accuracy: 0.5263 - loss: 0.9216 - val_accuracy: 0.5556 - val_loss: 0.8208\n",
      "Epoch 73/500\n",
      "\u001b[1m1/1\u001b[0m \u001b[32m━━━━━━━━━━━━━━━━━━━━\u001b[0m\u001b[37m\u001b[0m \u001b[1m2s\u001b[0m 2s/step - accuracy: 0.6082 - loss: 0.8863 - val_accuracy: 0.5556 - val_loss: 0.8454\n",
      "Epoch 74/500\n",
      "\u001b[1m1/1\u001b[0m \u001b[32m━━━━━━━━━━━━━━━━━━━━\u001b[0m\u001b[37m\u001b[0m \u001b[1m2s\u001b[0m 2s/step - accuracy: 0.5380 - loss: 0.9377 - val_accuracy: 0.5556 - val_loss: 0.8258\n",
      "Epoch 75/500\n",
      "\u001b[1m1/1\u001b[0m \u001b[32m━━━━━━━━━━━━━━━━━━━━\u001b[0m\u001b[37m\u001b[0m \u001b[1m2s\u001b[0m 2s/step - accuracy: 0.6082 - loss: 0.8917 - val_accuracy: 0.5556 - val_loss: 0.8133\n",
      "Epoch 76/500\n",
      "\u001b[1m1/1\u001b[0m \u001b[32m━━━━━━━━━━━━━━━━━━━━\u001b[0m\u001b[37m\u001b[0m \u001b[1m2s\u001b[0m 2s/step - accuracy: 0.6316 - loss: 0.8363 - val_accuracy: 0.6667 - val_loss: 0.8162\n",
      "Epoch 77/500\n",
      "\u001b[1m1/1\u001b[0m \u001b[32m━━━━━━━━━━━━━━━━━━━━\u001b[0m\u001b[37m\u001b[0m \u001b[1m2s\u001b[0m 2s/step - accuracy: 0.6082 - loss: 0.8642 - val_accuracy: 0.5556 - val_loss: 0.8060\n",
      "Epoch 78/500\n",
      "\u001b[1m1/1\u001b[0m \u001b[32m━━━━━━━━━━━━━━━━━━━━\u001b[0m\u001b[37m\u001b[0m \u001b[1m2s\u001b[0m 2s/step - accuracy: 0.5146 - loss: 0.9275 - val_accuracy: 0.5556 - val_loss: 0.7774\n",
      "Epoch 79/500\n",
      "\u001b[1m1/1\u001b[0m \u001b[32m━━━━━━━━━━━━━━━━━━━━\u001b[0m\u001b[37m\u001b[0m \u001b[1m2s\u001b[0m 2s/step - accuracy: 0.5556 - loss: 0.9219 - val_accuracy: 0.5556 - val_loss: 0.7916\n",
      "Epoch 80/500\n",
      "\u001b[1m1/1\u001b[0m \u001b[32m━━━━━━━━━━━━━━━━━━━━\u001b[0m\u001b[37m\u001b[0m \u001b[1m2s\u001b[0m 2s/step - accuracy: 0.5146 - loss: 0.9339 - val_accuracy: 0.5556 - val_loss: 0.8196\n",
      "Epoch 81/500\n",
      "\u001b[1m1/1\u001b[0m \u001b[32m━━━━━━━━━━━━━━━━━━━━\u001b[0m\u001b[37m\u001b[0m \u001b[1m2s\u001b[0m 2s/step - accuracy: 0.5906 - loss: 0.8709 - val_accuracy: 0.5556 - val_loss: 0.7792\n",
      "Epoch 82/500\n",
      "\u001b[1m1/1\u001b[0m \u001b[32m━━━━━━━━━━━━━━━━━━━━\u001b[0m\u001b[37m\u001b[0m \u001b[1m2s\u001b[0m 2s/step - accuracy: 0.6023 - loss: 0.8506 - val_accuracy: 0.5556 - val_loss: 0.7727\n",
      "Epoch 83/500\n",
      "\u001b[1m1/1\u001b[0m \u001b[32m━━━━━━━━━━━━━━━━━━━━\u001b[0m\u001b[37m\u001b[0m \u001b[1m2s\u001b[0m 2s/step - accuracy: 0.5906 - loss: 0.8687 - val_accuracy: 0.5556 - val_loss: 0.7962\n",
      "Epoch 84/500\n",
      "\u001b[1m1/1\u001b[0m \u001b[32m━━━━━━━━━━━━━━━━━━━━\u001b[0m\u001b[37m\u001b[0m \u001b[1m2s\u001b[0m 2s/step - accuracy: 0.5614 - loss: 0.8729 - val_accuracy: 0.5556 - val_loss: 0.8154\n",
      "Epoch 85/500\n",
      "\u001b[1m1/1\u001b[0m \u001b[32m━━━━━━━━━━━━━━━━━━━━\u001b[0m\u001b[37m\u001b[0m \u001b[1m2s\u001b[0m 2s/step - accuracy: 0.6199 - loss: 0.8955 - val_accuracy: 0.5556 - val_loss: 0.7663\n",
      "Epoch 86/500\n",
      "\u001b[1m1/1\u001b[0m \u001b[32m━━━━━━━━━━━━━━━━━━━━\u001b[0m\u001b[37m\u001b[0m \u001b[1m2s\u001b[0m 2s/step - accuracy: 0.5848 - loss: 0.8584 - val_accuracy: 0.6667 - val_loss: 0.7481\n",
      "Epoch 87/500\n",
      "\u001b[1m1/1\u001b[0m \u001b[32m━━━━━━━━━━━━━━━━━━━━\u001b[0m\u001b[37m\u001b[0m \u001b[1m2s\u001b[0m 2s/step - accuracy: 0.5965 - loss: 0.8527 - val_accuracy: 0.5556 - val_loss: 0.7504\n",
      "Epoch 88/500\n",
      "\u001b[1m1/1\u001b[0m \u001b[32m━━━━━━━━━━━━━━━━━━━━\u001b[0m\u001b[37m\u001b[0m \u001b[1m2s\u001b[0m 2s/step - accuracy: 0.5439 - loss: 0.8527 - val_accuracy: 0.6667 - val_loss: 0.7744\n",
      "Epoch 89/500\n",
      "\u001b[1m1/1\u001b[0m \u001b[32m━━━━━━━━━━━━━━━━━━━━\u001b[0m\u001b[37m\u001b[0m \u001b[1m2s\u001b[0m 2s/step - accuracy: 0.6433 - loss: 0.7936 - val_accuracy: 0.6667 - val_loss: 0.7702\n",
      "Epoch 90/500\n",
      "\u001b[1m1/1\u001b[0m \u001b[32m━━━━━━━━━━━━━━━━━━━━\u001b[0m\u001b[37m\u001b[0m \u001b[1m2s\u001b[0m 2s/step - accuracy: 0.5789 - loss: 0.8514 - val_accuracy: 0.6667 - val_loss: 0.7260\n",
      "Epoch 91/500\n",
      "\u001b[1m1/1\u001b[0m \u001b[32m━━━━━━━━━━━━━━━━━━━━\u001b[0m\u001b[37m\u001b[0m \u001b[1m2s\u001b[0m 2s/step - accuracy: 0.6140 - loss: 0.7788 - val_accuracy: 0.6667 - val_loss: 0.7063\n",
      "Epoch 92/500\n",
      "\u001b[1m1/1\u001b[0m \u001b[32m━━━━━━━━━━━━━━━━━━━━\u001b[0m\u001b[37m\u001b[0m \u001b[1m2s\u001b[0m 2s/step - accuracy: 0.5848 - loss: 0.8662 - val_accuracy: 0.5556 - val_loss: 0.7044\n",
      "Epoch 93/500\n",
      "\u001b[1m1/1\u001b[0m \u001b[32m━━━━━━━━━━━━━━━━━━━━\u001b[0m\u001b[37m\u001b[0m \u001b[1m2s\u001b[0m 2s/step - accuracy: 0.6374 - loss: 0.8083 - val_accuracy: 0.6667 - val_loss: 0.7198\n",
      "Epoch 94/500\n",
      "\u001b[1m1/1\u001b[0m \u001b[32m━━━━━━━━━━━━━━━━━━━━\u001b[0m\u001b[37m\u001b[0m \u001b[1m2s\u001b[0m 2s/step - accuracy: 0.6550 - loss: 0.7869 - val_accuracy: 0.5556 - val_loss: 0.6951\n",
      "Epoch 95/500\n",
      "\u001b[1m1/1\u001b[0m \u001b[32m━━━━━━━━━━━━━━━━━━━━\u001b[0m\u001b[37m\u001b[0m \u001b[1m2s\u001b[0m 2s/step - accuracy: 0.6316 - loss: 0.8351 - val_accuracy: 0.7778 - val_loss: 0.6762\n",
      "Epoch 96/500\n",
      "\u001b[1m1/1\u001b[0m \u001b[32m━━━━━━━━━━━━━━━━━━━━\u001b[0m\u001b[37m\u001b[0m \u001b[1m2s\u001b[0m 2s/step - accuracy: 0.6082 - loss: 0.7924 - val_accuracy: 0.6667 - val_loss: 0.6661\n",
      "Epoch 97/500\n",
      "\u001b[1m1/1\u001b[0m \u001b[32m━━━━━━━━━━━━━━━━━━━━\u001b[0m\u001b[37m\u001b[0m \u001b[1m2s\u001b[0m 2s/step - accuracy: 0.6491 - loss: 0.8255 - val_accuracy: 0.5556 - val_loss: 0.6735\n",
      "Epoch 98/500\n",
      "\u001b[1m1/1\u001b[0m \u001b[32m━━━━━━━━━━━━━━━━━━━━\u001b[0m\u001b[37m\u001b[0m \u001b[1m2s\u001b[0m 2s/step - accuracy: 0.6550 - loss: 0.7671 - val_accuracy: 0.5556 - val_loss: 0.6904\n",
      "Epoch 99/500\n",
      "\u001b[1m1/1\u001b[0m \u001b[32m━━━━━━━━━━━━━━━━━━━━\u001b[0m\u001b[37m\u001b[0m \u001b[1m2s\u001b[0m 2s/step - accuracy: 0.6374 - loss: 0.7934 - val_accuracy: 0.6667 - val_loss: 0.6584\n",
      "Epoch 100/500\n",
      "\u001b[1m1/1\u001b[0m \u001b[32m━━━━━━━━━━━━━━━━━━━━\u001b[0m\u001b[37m\u001b[0m \u001b[1m2s\u001b[0m 2s/step - accuracy: 0.6199 - loss: 0.7871 - val_accuracy: 0.8889 - val_loss: 0.6389\n",
      "Epoch 101/500\n",
      "\u001b[1m1/1\u001b[0m \u001b[32m━━━━━━━━━━━━━━━━━━━━\u001b[0m\u001b[37m\u001b[0m \u001b[1m2s\u001b[0m 2s/step - accuracy: 0.6023 - loss: 0.7863 - val_accuracy: 0.6667 - val_loss: 0.6295\n",
      "Epoch 102/500\n",
      "\u001b[1m1/1\u001b[0m \u001b[32m━━━━━━━━━━━━━━━━━━━━\u001b[0m\u001b[37m\u001b[0m \u001b[1m2s\u001b[0m 2s/step - accuracy: 0.6491 - loss: 0.7055 - val_accuracy: 0.5556 - val_loss: 0.6359\n",
      "Epoch 103/500\n",
      "\u001b[1m1/1\u001b[0m \u001b[32m━━━━━━━━━━━━━━━━━━━━\u001b[0m\u001b[37m\u001b[0m \u001b[1m2s\u001b[0m 2s/step - accuracy: 0.6608 - loss: 0.7593 - val_accuracy: 0.5556 - val_loss: 0.6330\n",
      "Epoch 104/500\n",
      "\u001b[1m1/1\u001b[0m \u001b[32m━━━━━━━━━━━━━━━━━━━━\u001b[0m\u001b[37m\u001b[0m \u001b[1m2s\u001b[0m 2s/step - accuracy: 0.6550 - loss: 0.7403 - val_accuracy: 0.7778 - val_loss: 0.6130\n",
      "Epoch 105/500\n",
      "\u001b[1m1/1\u001b[0m \u001b[32m━━━━━━━━━━━━━━━━━━━━\u001b[0m\u001b[37m\u001b[0m \u001b[1m2s\u001b[0m 2s/step - accuracy: 0.6608 - loss: 0.7125 - val_accuracy: 0.7778 - val_loss: 0.5985\n",
      "Epoch 106/500\n",
      "\u001b[1m1/1\u001b[0m \u001b[32m━━━━━━━━━━━━━━━━━━━━\u001b[0m\u001b[37m\u001b[0m \u001b[1m2s\u001b[0m 2s/step - accuracy: 0.6199 - loss: 0.7385 - val_accuracy: 0.6667 - val_loss: 0.5922\n",
      "Epoch 107/500\n",
      "\u001b[1m1/1\u001b[0m \u001b[32m━━━━━━━━━━━━━━━━━━━━\u001b[0m\u001b[37m\u001b[0m \u001b[1m2s\u001b[0m 2s/step - accuracy: 0.7368 - loss: 0.6810 - val_accuracy: 0.7778 - val_loss: 0.5911\n",
      "Epoch 108/500\n",
      "\u001b[1m1/1\u001b[0m \u001b[32m━━━━━━━━━━━━━━━━━━━━\u001b[0m\u001b[37m\u001b[0m \u001b[1m2s\u001b[0m 2s/step - accuracy: 0.6257 - loss: 0.7699 - val_accuracy: 0.7778 - val_loss: 0.5650\n",
      "Epoch 109/500\n",
      "\u001b[1m1/1\u001b[0m \u001b[32m━━━━━━━━━━━━━━━━━━━━\u001b[0m\u001b[37m\u001b[0m \u001b[1m2s\u001b[0m 2s/step - accuracy: 0.6608 - loss: 0.7461 - val_accuracy: 0.7778 - val_loss: 0.5656\n",
      "Epoch 110/500\n",
      "\u001b[1m1/1\u001b[0m \u001b[32m━━━━━━━━━━━━━━━━━━━━\u001b[0m\u001b[37m\u001b[0m \u001b[1m2s\u001b[0m 2s/step - accuracy: 0.6316 - loss: 0.7851 - val_accuracy: 0.7778 - val_loss: 0.5481\n",
      "Epoch 111/500\n",
      "\u001b[1m1/1\u001b[0m \u001b[32m━━━━━━━━━━━━━━━━━━━━\u001b[0m\u001b[37m\u001b[0m \u001b[1m2s\u001b[0m 2s/step - accuracy: 0.7076 - loss: 0.6568 - val_accuracy: 0.7778 - val_loss: 0.5462\n",
      "Epoch 112/500\n",
      "\u001b[1m1/1\u001b[0m \u001b[32m━━━━━━━━━━━━━━━━━━━━\u001b[0m\u001b[37m\u001b[0m \u001b[1m2s\u001b[0m 2s/step - accuracy: 0.6842 - loss: 0.7444 - val_accuracy: 0.7778 - val_loss: 0.5358\n",
      "Epoch 113/500\n",
      "\u001b[1m1/1\u001b[0m \u001b[32m━━━━━━━━━━━━━━━━━━━━\u001b[0m\u001b[37m\u001b[0m \u001b[1m2s\u001b[0m 2s/step - accuracy: 0.7602 - loss: 0.6493 - val_accuracy: 0.7778 - val_loss: 0.5166\n",
      "Epoch 114/500\n",
      "\u001b[1m1/1\u001b[0m \u001b[32m━━━━━━━━━━━━━━━━━━━━\u001b[0m\u001b[37m\u001b[0m \u001b[1m2s\u001b[0m 2s/step - accuracy: 0.6842 - loss: 0.6505 - val_accuracy: 0.7778 - val_loss: 0.5124\n",
      "Epoch 115/500\n",
      "\u001b[1m1/1\u001b[0m \u001b[32m━━━━━━━━━━━━━━━━━━━━\u001b[0m\u001b[37m\u001b[0m \u001b[1m2s\u001b[0m 2s/step - accuracy: 0.6959 - loss: 0.6721 - val_accuracy: 0.6667 - val_loss: 0.5000\n",
      "Epoch 116/500\n",
      "\u001b[1m1/1\u001b[0m \u001b[32m━━━━━━━━━━━━━━━━━━━━\u001b[0m\u001b[37m\u001b[0m \u001b[1m2s\u001b[0m 2s/step - accuracy: 0.7135 - loss: 0.6965 - val_accuracy: 0.7778 - val_loss: 0.4991\n",
      "Epoch 117/500\n",
      "\u001b[1m1/1\u001b[0m \u001b[32m━━━━━━━━━━━━━━━━━━━━\u001b[0m\u001b[37m\u001b[0m \u001b[1m2s\u001b[0m 2s/step - accuracy: 0.7135 - loss: 0.6964 - val_accuracy: 0.8889 - val_loss: 0.5093\n",
      "Epoch 118/500\n",
      "\u001b[1m1/1\u001b[0m \u001b[32m━━━━━━━━━━━━━━━━━━━━\u001b[0m\u001b[37m\u001b[0m \u001b[1m2s\u001b[0m 2s/step - accuracy: 0.6667 - loss: 0.6751 - val_accuracy: 0.6667 - val_loss: 0.5037\n",
      "Epoch 119/500\n",
      "\u001b[1m1/1\u001b[0m \u001b[32m━━━━━━━━━━━━━━━━━━━━\u001b[0m\u001b[37m\u001b[0m \u001b[1m2s\u001b[0m 2s/step - accuracy: 0.7135 - loss: 0.6871 - val_accuracy: 0.7778 - val_loss: 0.5060\n",
      "Epoch 120/500\n",
      "\u001b[1m1/1\u001b[0m \u001b[32m━━━━━━━━━━━━━━━━━━━━\u001b[0m\u001b[37m\u001b[0m \u001b[1m2s\u001b[0m 2s/step - accuracy: 0.6959 - loss: 0.6708 - val_accuracy: 0.6667 - val_loss: 0.5041\n",
      "Epoch 121/500\n",
      "\u001b[1m1/1\u001b[0m \u001b[32m━━━━━━━━━━━━━━━━━━━━\u001b[0m\u001b[37m\u001b[0m \u001b[1m2s\u001b[0m 2s/step - accuracy: 0.7135 - loss: 0.7399 - val_accuracy: 0.7778 - val_loss: 0.5349\n",
      "Epoch 122/500\n",
      "\u001b[1m1/1\u001b[0m \u001b[32m━━━━━━━━━━━━━━━━━━━━\u001b[0m\u001b[37m\u001b[0m \u001b[1m2s\u001b[0m 2s/step - accuracy: 0.6842 - loss: 0.6764 - val_accuracy: 0.6667 - val_loss: 0.5382\n",
      "Epoch 123/500\n",
      "\u001b[1m1/1\u001b[0m \u001b[32m━━━━━━━━━━━━━━━━━━━━\u001b[0m\u001b[37m\u001b[0m \u001b[1m2s\u001b[0m 2s/step - accuracy: 0.7544 - loss: 0.6794 - val_accuracy: 0.6667 - val_loss: 0.5338\n",
      "Epoch 124/500\n",
      "\u001b[1m1/1\u001b[0m \u001b[32m━━━━━━━━━━━━━━━━━━━━\u001b[0m\u001b[37m\u001b[0m \u001b[1m2s\u001b[0m 2s/step - accuracy: 0.7076 - loss: 0.6685 - val_accuracy: 0.6667 - val_loss: 0.5313\n",
      "Epoch 125/500\n",
      "\u001b[1m1/1\u001b[0m \u001b[32m━━━━━━━━━━━━━━━━━━━━\u001b[0m\u001b[37m\u001b[0m \u001b[1m2s\u001b[0m 2s/step - accuracy: 0.7076 - loss: 0.6749 - val_accuracy: 0.6667 - val_loss: 0.5208\n",
      "Epoch 126/500\n",
      "\u001b[1m1/1\u001b[0m \u001b[32m━━━━━━━━━━━━━━━━━━━━\u001b[0m\u001b[37m\u001b[0m \u001b[1m2s\u001b[0m 2s/step - accuracy: 0.8012 - loss: 0.5799 - val_accuracy: 0.7778 - val_loss: 0.5119\n",
      "Epoch 127/500\n",
      "\u001b[1m1/1\u001b[0m \u001b[32m━━━━━━━━━━━━━━━━━━━━\u001b[0m\u001b[37m\u001b[0m \u001b[1m2s\u001b[0m 2s/step - accuracy: 0.7018 - loss: 0.7024 - val_accuracy: 0.6667 - val_loss: 0.4877\n",
      "Epoch 128/500\n",
      "\u001b[1m1/1\u001b[0m \u001b[32m━━━━━━━━━━━━━━━━━━━━\u001b[0m\u001b[37m\u001b[0m \u001b[1m2s\u001b[0m 2s/step - accuracy: 0.7661 - loss: 0.6194 - val_accuracy: 0.8889 - val_loss: 0.4682\n",
      "Epoch 129/500\n",
      "\u001b[1m1/1\u001b[0m \u001b[32m━━━━━━━━━━━━━━━━━━━━\u001b[0m\u001b[37m\u001b[0m \u001b[1m2s\u001b[0m 2s/step - accuracy: 0.7427 - loss: 0.6152 - val_accuracy: 0.8889 - val_loss: 0.4516\n",
      "Epoch 130/500\n",
      "\u001b[1m1/1\u001b[0m \u001b[32m━━━━━━━━━━━━━━━━━━━━\u001b[0m\u001b[37m\u001b[0m \u001b[1m2s\u001b[0m 2s/step - accuracy: 0.7544 - loss: 0.5896 - val_accuracy: 0.8889 - val_loss: 0.4262\n",
      "Epoch 131/500\n",
      "\u001b[1m1/1\u001b[0m \u001b[32m━━━━━━━━━━━━━━━━━━━━\u001b[0m\u001b[37m\u001b[0m \u001b[1m2s\u001b[0m 2s/step - accuracy: 0.7778 - loss: 0.5772 - val_accuracy: 0.7778 - val_loss: 0.4075\n",
      "Epoch 132/500\n",
      "\u001b[1m1/1\u001b[0m \u001b[32m━━━━━━━━━━━━━━━━━━━━\u001b[0m\u001b[37m\u001b[0m \u001b[1m2s\u001b[0m 2s/step - accuracy: 0.7778 - loss: 0.5951 - val_accuracy: 0.8889 - val_loss: 0.3957\n",
      "Epoch 133/500\n",
      "\u001b[1m1/1\u001b[0m \u001b[32m━━━━━━━━━━━━━━━━━━━━\u001b[0m\u001b[37m\u001b[0m \u001b[1m2s\u001b[0m 2s/step - accuracy: 0.7895 - loss: 0.5372 - val_accuracy: 0.8889 - val_loss: 0.3951\n",
      "Epoch 134/500\n",
      "\u001b[1m1/1\u001b[0m \u001b[32m━━━━━━━━━━━━━━━━━━━━\u001b[0m\u001b[37m\u001b[0m \u001b[1m2s\u001b[0m 2s/step - accuracy: 0.7719 - loss: 0.5935 - val_accuracy: 0.8889 - val_loss: 0.3978\n",
      "Epoch 135/500\n",
      "\u001b[1m1/1\u001b[0m \u001b[32m━━━━━━━━━━━━━━━━━━━━\u001b[0m\u001b[37m\u001b[0m \u001b[1m2s\u001b[0m 2s/step - accuracy: 0.7895 - loss: 0.5698 - val_accuracy: 0.8889 - val_loss: 0.4114\n",
      "Epoch 136/500\n",
      "\u001b[1m1/1\u001b[0m \u001b[32m━━━━━━━━━━━━━━━━━━━━\u001b[0m\u001b[37m\u001b[0m \u001b[1m2s\u001b[0m 2s/step - accuracy: 0.7193 - loss: 0.7192 - val_accuracy: 0.8889 - val_loss: 0.4281\n",
      "Epoch 137/500\n",
      "\u001b[1m1/1\u001b[0m \u001b[32m━━━━━━━━━━━━━━━━━━━━\u001b[0m\u001b[37m\u001b[0m \u001b[1m2s\u001b[0m 2s/step - accuracy: 0.7661 - loss: 0.6015 - val_accuracy: 0.8889 - val_loss: 0.4330\n",
      "Epoch 138/500\n",
      "\u001b[1m1/1\u001b[0m \u001b[32m━━━━━━━━━━━━━━━━━━━━\u001b[0m\u001b[37m\u001b[0m \u001b[1m2s\u001b[0m 2s/step - accuracy: 0.7485 - loss: 0.6227 - val_accuracy: 0.8889 - val_loss: 0.4371\n",
      "Epoch 139/500\n",
      "\u001b[1m1/1\u001b[0m \u001b[32m━━━━━━━━━━━━━━━━━━━━\u001b[0m\u001b[37m\u001b[0m \u001b[1m2s\u001b[0m 2s/step - accuracy: 0.8070 - loss: 0.5512 - val_accuracy: 0.8889 - val_loss: 0.4523\n",
      "Epoch 140/500\n",
      "\u001b[1m1/1\u001b[0m \u001b[32m━━━━━━━━━━━━━━━━━━━━\u001b[0m\u001b[37m\u001b[0m \u001b[1m2s\u001b[0m 2s/step - accuracy: 0.7719 - loss: 0.6370 - val_accuracy: 0.8889 - val_loss: 0.4635\n",
      "Epoch 141/500\n",
      "\u001b[1m1/1\u001b[0m \u001b[32m━━━━━━━━━━━━━━━━━━━━\u001b[0m\u001b[37m\u001b[0m \u001b[1m2s\u001b[0m 2s/step - accuracy: 0.7895 - loss: 0.5707 - val_accuracy: 0.7778 - val_loss: 0.4559\n",
      "Epoch 142/500\n",
      "\u001b[1m1/1\u001b[0m \u001b[32m━━━━━━━━━━━━━━━━━━━━\u001b[0m\u001b[37m\u001b[0m \u001b[1m2s\u001b[0m 2s/step - accuracy: 0.7485 - loss: 0.5531 - val_accuracy: 0.7778 - val_loss: 0.4486\n",
      "Epoch 143/500\n",
      "\u001b[1m1/1\u001b[0m \u001b[32m━━━━━━━━━━━━━━━━━━━━\u001b[0m\u001b[37m\u001b[0m \u001b[1m2s\u001b[0m 2s/step - accuracy: 0.7836 - loss: 0.5150 - val_accuracy: 0.7778 - val_loss: 0.4434\n",
      "Epoch 144/500\n",
      "\u001b[1m1/1\u001b[0m \u001b[32m━━━━━━━━━━━━━━━━━━━━\u001b[0m\u001b[37m\u001b[0m \u001b[1m2s\u001b[0m 2s/step - accuracy: 0.7895 - loss: 0.5395 - val_accuracy: 0.8889 - val_loss: 0.4245\n",
      "Epoch 145/500\n",
      "\u001b[1m1/1\u001b[0m \u001b[32m━━━━━━━━━━━━━━━━━━━━\u001b[0m\u001b[37m\u001b[0m \u001b[1m2s\u001b[0m 2s/step - accuracy: 0.8363 - loss: 0.4839 - val_accuracy: 0.8889 - val_loss: 0.3973\n",
      "Epoch 146/500\n",
      "\u001b[1m1/1\u001b[0m \u001b[32m━━━━━━━━━━━━━━━━━━━━\u001b[0m\u001b[37m\u001b[0m \u001b[1m2s\u001b[0m 2s/step - accuracy: 0.7602 - loss: 0.5952 - val_accuracy: 0.8889 - val_loss: 0.3753\n",
      "Epoch 147/500\n",
      "\u001b[1m1/1\u001b[0m \u001b[32m━━━━━━━━━━━━━━━━━━━━\u001b[0m\u001b[37m\u001b[0m \u001b[1m2s\u001b[0m 2s/step - accuracy: 0.8187 - loss: 0.5409 - val_accuracy: 0.8889 - val_loss: 0.3623\n",
      "Epoch 148/500\n",
      "\u001b[1m1/1\u001b[0m \u001b[32m━━━━━━━━━━━━━━━━━━━━\u001b[0m\u001b[37m\u001b[0m \u001b[1m2s\u001b[0m 2s/step - accuracy: 0.8129 - loss: 0.4861 - val_accuracy: 0.8889 - val_loss: 0.3511\n",
      "Epoch 149/500\n",
      "\u001b[1m1/1\u001b[0m \u001b[32m━━━━━━━━━━━━━━━━━━━━\u001b[0m\u001b[37m\u001b[0m \u001b[1m2s\u001b[0m 2s/step - accuracy: 0.7485 - loss: 0.5516 - val_accuracy: 0.8889 - val_loss: 0.3248\n",
      "Epoch 150/500\n",
      "\u001b[1m1/1\u001b[0m \u001b[32m━━━━━━━━━━━━━━━━━━━━\u001b[0m\u001b[37m\u001b[0m \u001b[1m2s\u001b[0m 2s/step - accuracy: 0.8304 - loss: 0.4349 - val_accuracy: 0.7778 - val_loss: 0.3121\n",
      "Epoch 151/500\n",
      "\u001b[1m1/1\u001b[0m \u001b[32m━━━━━━━━━━━━━━━━━━━━\u001b[0m\u001b[37m\u001b[0m \u001b[1m2s\u001b[0m 2s/step - accuracy: 0.8304 - loss: 0.4744 - val_accuracy: 0.7778 - val_loss: 0.3095\n",
      "Epoch 152/500\n",
      "\u001b[1m1/1\u001b[0m \u001b[32m━━━━━━━━━━━━━━━━━━━━\u001b[0m\u001b[37m\u001b[0m \u001b[1m2s\u001b[0m 2s/step - accuracy: 0.8246 - loss: 0.5214 - val_accuracy: 0.7778 - val_loss: 0.3078\n",
      "Epoch 153/500\n",
      "\u001b[1m1/1\u001b[0m \u001b[32m━━━━━━━━━━━━━━━━━━━━\u001b[0m\u001b[37m\u001b[0m \u001b[1m2s\u001b[0m 2s/step - accuracy: 0.7895 - loss: 0.4775 - val_accuracy: 0.8889 - val_loss: 0.2968\n",
      "Epoch 154/500\n",
      "\u001b[1m1/1\u001b[0m \u001b[32m━━━━━━━━━━━━━━━━━━━━\u001b[0m\u001b[37m\u001b[0m \u001b[1m0s\u001b[0m 2s/step - accuracy: 0.8480 - loss: 0.4226\n",
      "EarlyStop:valacc:1.00,vloss:0.29,acc:0.85,loss:0.42 epoch:153\n",
      "\u001b[1m1/1\u001b[0m \u001b[32m━━━━━━━━━━━━━━━━━━━━\u001b[0m\u001b[37m\u001b[0m \u001b[1m2s\u001b[0m 2s/step - accuracy: 0.8480 - loss: 0.4226 - val_accuracy: 1.0000 - val_loss: 0.2866\n",
      "tunedcnn2: Training done.\n",
      "getstopepoch:earlystopat:153\n",
      "tunedcnn2:epochs_range:range(0, 154),acc.len:154,epochs:500,stopat:154\n"
     ]
    }
   ],
   "source": [
    "# 3. Build and train selected model:\n",
    "print(\"Build_fit:{} model\".format(modelnm))\n",
    "model, hist, nepochsran = buildtunedcnn2(trainds,valds,valsplit=valsplit,nepochs=nepochs,imghw=imghw)"
   ]
  },
  {
   "cell_type": "markdown",
   "id": "163c085a-f999-46c7-999d-7eaca8c63fde",
   "metadata": {},
   "source": [
    "**Plot Accuracy, Loss, Confusion Matrix, Classification Report from the Tune2 model's training and predictions:**"
   ]
  },
  {
   "cell_type": "code",
   "execution_count": 13,
   "id": "1a1d9277-5300-4bfc-9d9b-9198df161b28",
   "metadata": {},
   "outputs": [
    {
     "data": {
      "image/png": "[encoded data removed]",
      "text/plain": [
       "<Figure size 400x400 with 2 Axes>"
      ]
     },
     "metadata": {},
     "output_type": "display_data"
    }
   ],
   "source": [
    "# 4. View loss and accuracy after model training\n",
    "plotaccloss(hist,modelnm)"
   ]
  },
  {
   "cell_type": "code",
   "execution_count": 14,
   "id": "57955013-bfed-4da1-9325-b2b0b57e1b5e",
   "metadata": {},
   "outputs": [
    {
     "name": "stdout",
     "output_type": "stream",
     "text": [
      "Classification Report:\n",
      "              precision    recall  f1-score   support\n",
      "\n",
      "           0       1.00      0.67      0.80         3\n",
      "           1       0.75      1.00      0.86         3\n",
      "           2       1.00      1.00      1.00         3\n",
      "\n",
      "    accuracy                           0.89         9\n",
      "   macro avg       0.92      0.89      0.89         9\n",
      "weighted avg       0.92      0.89      0.89         9\n",
      "\n",
      "Confusion matrix:\n",
      "[[2 1 0]\n",
      " [0 3 0]\n",
      " [0 0 3]]\n"
     ]
    },
    {
     "data": {
      "image/png": "[encoded data removed]",
      "text/plain": [
       "<Figure size 100x100 with 2 Axes>"
      ]
     },
     "metadata": {},
     "output_type": "display_data"
    }
   ],
   "source": [
    "# 5. Analyse performance with confusion matrix and classification report:\n",
    "valds_pred = model.predict(valds,verbose=False)\n",
    "valdslabels,predids1by1 = [],[]\n",
    "for images, labels in valds:\n",
    "    valdslabels = labels\n",
    "    for i in range(len(labels)):\n",
    "        predids1by1.append(np.argmax(tf.nn.softmax(valds_pred[i])))\n",
    "createcm_classrpt(valdslabels,predids1by1,numclasses)"
   ]
  },
  {
   "cell_type": "markdown",
   "id": "7b8bfe18-f3f7-4a1e-823d-5da27ff6058d",
   "metadata": {},
   "source": [
    "## <font color = \"blue\">5. Ethical implications:\n",
    " Image dataset and model is from the publicly available sources and are not utilized for any personal and commercial gains.\n"
   ]
  },
  {
   "cell_type": "markdown",
   "id": "4fe46e3e-f178-4bd6-9bc7-f76f6ba9656c",
   "metadata": {},
   "source": [
    "## <font color = \"blue\">6. Findings and Recommendations:"
   ]
  },
  {
   "cell_type": "markdown",
   "id": "752e5bfa-e6ca-45ef-91e9-fe05da9b0ca2",
   "metadata": {},
   "source": [
    "Project provided deeper insights into the image classification models, datasets and techniques to implement a system using them.\n",
    "\n",
    "**a. Findings:**\n",
    "* Perform thorough study of dataset to understand the variations, outliers and issues in the dataset.\n",
    "* Form a strategy to draw a sample group from bigger dataset and split the dataset into training and validation batches.\n",
    "* Begin with, analyse and enahance a representative model configuration.\n",
    "* Assess the results at each stage and tune the hyperparameters to eliminate the gaps and improve the performance.\n",
    "\n",
    "**b. Recommendations:**\n",
    "* Utilize the existing datasets to start with and augment this with image augmentations and our own additional data.\n",
    "* Study and review various competitions and study notebooks available on Kaggle, Colab and elsewhere.\n",
    "* Join Discord channels for various research.\n",
    "* Try to utilize existing pretrained models available on kaggle for further fine tuning and improving the solutions.\n",
    "\n"
   ]
  },
  {
   "cell_type": "markdown",
   "id": "553a1fb5-9e2d-4dd8-89f7-7aae300d34c7",
   "metadata": {},
   "source": [
    "## <font color = \"DarkGreen\"> Beyond and After SCTP:\n",
    "\n",
    "  Interested to know more about my projects, please feel free to explore my Project's Github:\n",
    "  https://github.com/projgb"
   ]
  },
  {
   "cell_type": "markdown",
   "id": "6deca8cc-d667-43ae-a422-f7e7610a3aee",
   "metadata": {},
   "source": [
    "## Thank You!"
   ]
  },
  {
   "cell_type": "code",
   "execution_count": null,
   "id": "429c9069-98c3-4ba7-a899-839ed1d5c2f5",
   "metadata": {},
   "outputs": [],
   "source": []
  }
 ],
 "metadata": {
  "kernelspec": {
   "display_name": "Python 3 (ipykernel)",
   "language": "python",
   "name": "python3"
  },
  "language_info": {
   "codemirror_mode": {
    "name": "ipython",
    "version": 3
   },
   "file_extension": ".py",
   "mimetype": "text/x-python",
   "name": "python",
   "nbconvert_exporter": "python",
   "pygments_lexer": "ipython3",
   "version": "3.12.4"
  }
 },
 "nbformat": 4,
 "nbformat_minor": 5
}
